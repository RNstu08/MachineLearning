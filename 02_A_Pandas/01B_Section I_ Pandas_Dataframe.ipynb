{
 "cells": [
  {
   "cell_type": "code",
   "execution_count": 1,
   "id": "6eb39cb4-a47d-41cf-9bb4-03f8ff783747",
   "metadata": {},
   "outputs": [],
   "source": [
    "import pandas as pd\n",
    "import numpy as np"
   ]
  },
  {
   "cell_type": "markdown",
   "id": "8ac3d03a-eb21-4f07-9d68-aff14a2225b2",
   "metadata": {},
   "source": [
    "#### 1. Creating a Pandas DataFrame"
   ]
  },
  {
   "cell_type": "code",
   "execution_count": 6,
   "id": "eaa2fb7b-674a-4480-b1b4-fbcca1998aee",
   "metadata": {},
   "outputs": [
    {
     "name": "stdout",
     "output_type": "stream",
     "text": [
      "   col_1 col_2 col_3\n",
      "0      1     A     a\n",
      "1      2     B     b\n",
      "2      3     C     c\n"
     ]
    }
   ],
   "source": [
    "list1= {\n",
    "    'col_1':[1, 2, 3],\n",
    "    'col_2':['A','B', 'C'],\n",
    "    'col_3':['a', 'b', 'c']\n",
    "}\n",
    "print(pd.DataFrame(list1))"
   ]
  },
  {
   "cell_type": "code",
   "execution_count": 5,
   "id": "d03cb280-8250-4bf0-93fe-2c386a3a0c44",
   "metadata": {},
   "outputs": [
    {
     "name": "stdout",
     "output_type": "stream",
     "text": [
      "DataFrame from dict of lists (default index):\n",
      "    col1  col2 col3\n",
      "0     1    10    A\n",
      "1     2    20    B\n",
      "2     3    30    C\n",
      "3     4    40    D\n"
     ]
    }
   ],
   "source": [
    "# a) From a dictionary of lists or NumPy arrays (keys become column names)\n",
    "data_dict = {\n",
    "    'col1': [1, 2, 3, 4],\n",
    "    'col2': [10, 20, 30, 40],\n",
    "    'col3': ['A', 'B', 'C', 'D']\n",
    "}\n",
    "df_from_dict = pd.DataFrame(data_dict)\n",
    "print(\"DataFrame from dict of lists (default index):\\n\", df_from_dict)"
   ]
  },
  {
   "cell_type": "code",
   "execution_count": 18,
   "id": "765129d6-1c1b-44de-8ed4-73ff4cc142ad",
   "metadata": {},
   "outputs": [
    {
     "name": "stdout",
     "output_type": "stream",
     "text": [
      "DataFrame from dict of lists (custom index):\n",
      "       col1  col2 col3\n",
      "row1     1    10    A\n",
      "row2     2    20    B\n",
      "row3     3    30    C\n",
      "row4     4    40    D\n"
     ]
    }
   ],
   "source": [
    "# Specify a custom index\n",
    "\n",
    "custom_index = ['row1', 'row2', 'row3', 'row4']\n",
    "df_from_dict_custom_index = pd.DataFrame(data_dict, index = custom_index)\n",
    "print(\"DataFrame from dict of lists (custom index):\\n\", df_from_dict_custom_index)"
   ]
  },
  {
   "cell_type": "code",
   "execution_count": 16,
   "id": "93dea104-abae-46c4-a986-41125a6d524f",
   "metadata": {},
   "outputs": [
    {
     "name": "stdout",
     "output_type": "stream",
     "text": [
      "DataFrame from dict of Series (indices aligned, NaN where missing):\n",
      "             population  area_sq_km\n",
      "California   3600000.0    423000.0\n",
      "Florida      2400000.0    170000.0\n",
      "Illinois     2100000.0         NaN\n",
      "Ohio         1500000.0    119000.0\n",
      "Texas        1700000.0    695000.0\n",
      "--------------------\n"
     ]
    }
   ],
   "source": [
    "# b) From a dictionary of Pandas Series\n",
    "# Series indices are aligned; keys become column names.\n",
    "series_dict = {\n",
    "    'population': pd.Series([1.5e6, 1.7e6, 3.6e6, 2.4e6, 2.1e6], index=['Ohio', 'Texas', 'California', 'Florida', 'Illinois']),\n",
    "    'area_sq_km': pd.Series([119e3, 695e3, 423e3, 170e3], index=['Ohio', 'Texas', 'California', 'Florida']) # Missing Illinois\n",
    "}\n",
    "df_from_series = pd.DataFrame(series_dict)\n",
    "print(\"DataFrame from dict of Series (indices aligned, NaN where missing):\\n\", df_from_series)\n",
    "print(\"-\" * 20)"
   ]
  },
  {
   "cell_type": "code",
   "execution_count": 19,
   "id": "d1f24bcf-d126-4043-81c0-e74691f3f520",
   "metadata": {},
   "outputs": [
    {
     "name": "stdout",
     "output_type": "stream",
     "text": [
      "DataFrame from list of dicts:\n",
      "     a     b      c      d\n",
      "r1  1  10.0    NaN    NaN\n",
      "r2  2  20.0  100.0    NaN\n",
      "r3  3   NaN    NaN  200.0\n"
     ]
    }
   ],
   "source": [
    "# c) From a list of dictionaries\n",
    "# Each dictionary represents a row; keys become column names.\n",
    "# Pandas infers column names from keys; NaN for missing keys in a dict.\n",
    "list_of_dicts = [\n",
    "    {'a': 1, 'b': 10},\n",
    "    {'a': 2, 'b': 20, 'c': 100}, # 'c' is missing in the first dict\n",
    "    {'a': 3, 'd': 200}          # 'b', 'c' are missing here\n",
    "]\n",
    "df_from_list_dicts = pd.DataFrame(list_of_dicts, index=['r1', 'r2', 'r3'])\n",
    "print(\"DataFrame from list of dicts:\\n\", df_from_list_dicts)"
   ]
  },
  {
   "cell_type": "code",
   "execution_count": 28,
   "id": "cb7a633d-6b15-4fef-b9d4-d8c884864191",
   "metadata": {},
   "outputs": [
    {
     "name": "stdout",
     "output_type": "stream",
     "text": [
      "DataFrame from 2D NumPy array:\n",
      "            X         Y         Z\n",
      "n1 -0.903518  0.988431 -0.450755\n",
      "n2  1.071125 -0.217376  1.462624\n",
      "n3 -0.203345  0.176490  0.636177\n",
      "n4  0.643788 -2.491312  0.020752\n"
     ]
    }
   ],
   "source": [
    "# d) From a 2D NumPy array\n",
    "numpy_2d = np.random.randn(4, 3) # 4x3 array of random numbers\n",
    "df_from_numpy = pd.DataFrame(numpy_2d, index=['n1', 'n2', 'n3', 'n4'], columns=['X', 'Y', 'Z'])\n",
    "print(\"DataFrame from 2D NumPy array:\\n\", df_from_numpy)"
   ]
  },
  {
   "cell_type": "code",
   "execution_count": 30,
   "id": "623f72f8-4519-4416-91ec-7a1e645b1a5b",
   "metadata": {},
   "outputs": [
    {
     "name": "stdout",
     "output_type": "stream",
     "text": [
      "DataFrame created as a copy of another:\n",
      "    col1  col2 col3\n",
      "0     1    10    A\n",
      "1     2    20    B\n",
      "2     3    30    C\n",
      "3     4    40    D\n"
     ]
    }
   ],
   "source": [
    "# e) From another DataFrame (creates a copy by default)\n",
    "df_copy = pd.DataFrame(df_from_dict)\n",
    "print(\"DataFrame created as a copy of another:\\n\", df_copy)\n",
    "# Modifying df_copy will not affect df_from_dict"
   ]
  },
  {
   "cell_type": "markdown",
   "id": "0d748f13-d9e7-4cb0-a86b-5d5bca82873d",
   "metadata": {},
   "source": [
    "#### 2. DataFrame Attributes"
   ]
  },
  {
   "cell_type": "code",
   "execution_count": 31,
   "id": "d0a2b15a-f4e9-4337-954c-01948e09bbd2",
   "metadata": {},
   "outputs": [
    {
     "name": "stdout",
     "output_type": "stream",
     "text": [
      "DataFrame:\n",
      "             population  area_sq_km\n",
      "California   3600000.0    423000.0\n",
      "Florida      2400000.0    170000.0\n",
      "Illinois     2100000.0         NaN\n",
      "Ohio         1500000.0    119000.0\n",
      "Texas        1700000.0    695000.0\n"
     ]
    }
   ],
   "source": [
    "print(\"DataFrame:\\n\", df_from_series)"
   ]
  },
  {
   "cell_type": "code",
   "execution_count": 39,
   "id": "de0cde58-bf5f-4056-a545-cc568dd7eb2f",
   "metadata": {},
   "outputs": [
    {
     "name": "stdout",
     "output_type": "stream",
     "text": [
      "Columns: Index(['population', 'area_sq_km'], dtype='object')\n"
     ]
    }
   ],
   "source": [
    "# .columns: Get the column index object\n",
    "print(f\"Columns: {df_from_series.columns}\")"
   ]
  },
  {
   "cell_type": "code",
   "execution_count": 41,
   "id": "774189cd-2e9e-43a8-b8a9-12e9bc0997ad",
   "metadata": {},
   "outputs": [
    {
     "name": "stdout",
     "output_type": "stream",
     "text": [
      "\n",
      "Values (NumPy array):\n",
      "[[3600000.  423000.]\n",
      " [2400000.  170000.]\n",
      " [2100000.      nan]\n",
      " [1500000.  119000.]\n",
      " [1700000.  695000.]]\n",
      "\n",
      "Type of values: <class 'numpy.ndarray'>\n",
      "\n",
      "Dtype of values array: float64\n"
     ]
    }
   ],
   "source": [
    "# .values: Get the data as a 2D NumPy array\n",
    "# Note: If dtypes are mixed, the resulting NumPy array dtype will be 'object'\n",
    "print(f\"\\nValues (NumPy array):\\n{df_from_series.values}\\n\")\n",
    "print(f\"Type of values: {type(df_from_series.values)}\\n\")\n",
    "print(f\"Dtype of values array: {df_from_series.values.dtype}\") # Might be float64 if all cols are numeric, otherwise object"
   ]
  },
  {
   "cell_type": "code",
   "execution_count": 42,
   "id": "6ec80ae8-adfa-4fc3-981e-fa7eeddf5eed",
   "metadata": {},
   "outputs": [
    {
     "name": "stdout",
     "output_type": "stream",
     "text": [
      "\n",
      "Data types of columns (dtypes):\n",
      "population    float64\n",
      "area_sq_km    float64\n",
      "dtype: object\n"
     ]
    }
   ],
   "source": [
    "# .dtypes: Get the data type of each column as a Series\n",
    "print(f\"\\nData types of columns (dtypes):\\n{df_from_series.dtypes}\")"
   ]
  },
  {
   "cell_type": "code",
   "execution_count": 43,
   "id": "38c5a1cf-00e3-4ee2-b3ef-8d9f5236da51",
   "metadata": {},
   "outputs": [
    {
     "name": "stdout",
     "output_type": "stream",
     "text": [
      "\n",
      "Shape (rows, columns): (5, 2)\n"
     ]
    }
   ],
   "source": [
    "# .shape: Get the shape (rows, columns) as a tuple\n",
    "print(f\"\\nShape (rows, columns): {df_from_series.shape}\")"
   ]
  },
  {
   "cell_type": "code",
   "execution_count": 44,
   "id": "be381dd5-faa0-48da-930e-3929d89ef7fb",
   "metadata": {},
   "outputs": [
    {
     "name": "stdout",
     "output_type": "stream",
     "text": [
      "Size (total elements): 10\n"
     ]
    }
   ],
   "source": [
    "# .size: Get the total number of elements (rows * columns)\n",
    "print(f\"Size (total elements): {df_from_series.size}\")"
   ]
  },
  {
   "cell_type": "markdown",
   "id": "9abf3e91-7178-4d08-b3fc-79e8d9d363a5",
   "metadata": {},
   "source": [
    "#### 3. Basic Inspection Methods"
   ]
  },
  {
   "cell_type": "code",
   "execution_count": 45,
   "id": "7e5b4217-c6f1-4879-8e3b-2d1b27e26c90",
   "metadata": {},
   "outputs": [
    {
     "name": "stdout",
     "output_type": "stream",
     "text": [
      "DataFrame:\n",
      "             population  area_sq_km\n",
      "California   3600000.0    423000.0\n",
      "Florida      2400000.0    170000.0\n",
      "Illinois     2100000.0         NaN\n",
      "Ohio         1500000.0    119000.0\n",
      "Texas        1700000.0    695000.0\n"
     ]
    }
   ],
   "source": [
    "print(\"DataFrame:\\n\", df_from_series)"
   ]
  },
  {
   "cell_type": "code",
   "execution_count": 46,
   "id": "b7533857-1646-44d7-bad9-8f7daeba5a30",
   "metadata": {},
   "outputs": [
    {
     "name": "stdout",
     "output_type": "stream",
     "text": [
      "\n",
      "First 3 rows (.head(3)):\n",
      "             population  area_sq_km\n",
      "California   3600000.0    423000.0\n",
      "Florida      2400000.0    170000.0\n",
      "Illinois     2100000.0         NaN\n"
     ]
    }
   ],
   "source": [
    "# .head(n=5): View the first n rows (default is 5)\n",
    "print(\"\\nFirst 3 rows (.head(3)):\\n\", df_from_series.head(3))"
   ]
  },
  {
   "cell_type": "code",
   "execution_count": 47,
   "id": "4f50391b-2c5f-4a10-8442-e4129be7a67f",
   "metadata": {},
   "outputs": [
    {
     "name": "stdout",
     "output_type": "stream",
     "text": [
      "\n",
      "Last 2 rows (.tail(2)):\n",
      "        population  area_sq_km\n",
      "Ohio    1500000.0    119000.0\n",
      "Texas   1700000.0    695000.0\n"
     ]
    }
   ],
   "source": [
    "# .tail(n=5): View the last n rows (default is 5)\n",
    "print(\"\\nLast 2 rows (.tail(2)):\\n\", df_from_series.tail(2))"
   ]
  },
  {
   "cell_type": "code",
   "execution_count": 48,
   "id": "83da6f3c-1753-49a8-8be6-87d60e13b546",
   "metadata": {},
   "outputs": [
    {
     "name": "stdout",
     "output_type": "stream",
     "text": [
      "\n",
      "DataFrame Info (.info()):\n",
      "<class 'pandas.core.frame.DataFrame'>\n",
      "Index: 5 entries, California to Texas\n",
      "Data columns (total 2 columns):\n",
      " #   Column      Non-Null Count  Dtype  \n",
      "---  ------      --------------  -----  \n",
      " 0   population  5 non-null      float64\n",
      " 1   area_sq_km  4 non-null      float64\n",
      "dtypes: float64(2)\n",
      "memory usage: 120.0+ bytes\n"
     ]
    }
   ],
   "source": [
    "# .info(): Get a concise summary (index dtype, column dtypes, non-null counts, memory usage)\n",
    "print(\"\\nDataFrame Info (.info()):\")\n",
    "df_from_series.info() # Prints directly"
   ]
  },
  {
   "cell_type": "code",
   "execution_count": 49,
   "id": "7ab60172-f2f0-4b04-996d-a5f94aa8898d",
   "metadata": {},
   "outputs": [
    {
     "name": "stdout",
     "output_type": "stream",
     "text": [
      "\n",
      "Descriptive Statistics (.describe()):\n",
      "          population     area_sq_km\n",
      "count  5.000000e+00       4.000000\n",
      "mean   2.260000e+06  351750.000000\n",
      "std    8.264381e+05  264639.849607\n",
      "min    1.500000e+06  119000.000000\n",
      "25%    1.700000e+06  157250.000000\n",
      "50%    2.100000e+06  296500.000000\n",
      "75%    2.400000e+06  491000.000000\n",
      "max    3.600000e+06  695000.000000\n"
     ]
    }
   ],
   "source": [
    "# .describe(): Generate descriptive statistics for numerical columns\n",
    "# Includes count, mean, std, min, 25th percentile, 50th (median), 75th, max\n",
    "print(\"\\nDescriptive Statistics (.describe()):\\n\", df_from_series.describe())"
   ]
  },
  {
   "cell_type": "code",
   "execution_count": 50,
   "id": "3f0e22e7-78cf-4bf9-b967-9fef00881d8c",
   "metadata": {},
   "outputs": [
    {
     "name": "stdout",
     "output_type": "stream",
     "text": [
      "DataFrame with object type:\n",
      "   col_str  col_num\n",
      "0       a        1\n",
      "1       b        2\n",
      "2       a        3\n",
      "3       c        4\n",
      "4       b        5\n",
      "5       a        6\n",
      "\n",
      "Describe object columns (.describe(include='object')):\n",
      "        col_str\n",
      "count        6\n",
      "unique       3\n",
      "top          a\n",
      "freq         3\n"
     ]
    }
   ],
   "source": [
    "# Describe non-numerical columns (e.g., object/string or categorical)\n",
    "df_obj = pd.DataFrame({'col_str': ['a', 'b', 'a', 'c', 'b', 'a'], 'col_num': [1,2,3,4,5,6]})\n",
    "print(\"DataFrame with object type:\\n\", df_obj)\n",
    "print(\"\\nDescribe object columns (.describe(include='object')):\\n\", df_obj.describe(include='object'))\n",
    "# Includes count, unique, top (most frequent), freq (frequency of top)"
   ]
  },
  {
   "cell_type": "code",
   "execution_count": 51,
   "id": "c7b2fa70-5c08-4773-b610-f57f94183d74",
   "metadata": {},
   "outputs": [
    {
     "name": "stdout",
     "output_type": "stream",
     "text": [
      "\n",
      "Describe all columns (.describe(include='all')):\n",
      "          population     area_sq_km\n",
      "count  5.000000e+00       4.000000\n",
      "mean   2.260000e+06  351750.000000\n",
      "std    8.264381e+05  264639.849607\n",
      "min    1.500000e+06  119000.000000\n",
      "25%    1.700000e+06  157250.000000\n",
      "50%    2.100000e+06  296500.000000\n",
      "75%    2.400000e+06  491000.000000\n",
      "max    3.600000e+06  695000.000000\n"
     ]
    }
   ],
   "source": [
    "# Describe all columns\n",
    "print(\"\\nDescribe all columns (.describe(include='all')):\\n\", df_from_series.describe(include='all'))\n",
    "# Combines numerical and non-numerical summaries (NaN where not applicable)"
   ]
  },
  {
   "cell_type": "code",
   "execution_count": null,
   "id": "d82404bf-e8a5-4915-b19e-d221d04c010a",
   "metadata": {},
   "outputs": [],
   "source": []
  }
 ],
 "metadata": {
  "kernelspec": {
   "display_name": "Python 3 (ipykernel)",
   "language": "python",
   "name": "python3"
  },
  "language_info": {
   "codemirror_mode": {
    "name": "ipython",
    "version": 3
   },
   "file_extension": ".py",
   "mimetype": "text/x-python",
   "name": "python",
   "nbconvert_exporter": "python",
   "pygments_lexer": "ipython3",
   "version": "3.13.3"
  }
 },
 "nbformat": 4,
 "nbformat_minor": 5
}
