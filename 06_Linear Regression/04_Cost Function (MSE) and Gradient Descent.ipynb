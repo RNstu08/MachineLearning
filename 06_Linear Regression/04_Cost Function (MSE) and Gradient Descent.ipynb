{
 "cells": [
  {
   "cell_type": "markdown",
   "id": "e156f181-f765-4433-8269-0eca47feb142",
   "metadata": {},
   "source": [
    "Alright, let's move on to two fundamental concepts that explain *how* our linear regression model (and many other machine learning models) actually \"learns\" the best parameters: the **Cost Function (specifically MSE)** and the optimization algorithm **Gradient Descent**."
   ]
  },
  {
   "cell_type": "markdown",
   "id": "f6857b57-ab76-41aa-86fc-8309ea66cd3b",
   "metadata": {},
   "source": [
    "**Part 4: Cost Function (Mean Squared Error - MSE)**\n",
    "\n",
    "1.  **What is a Cost Function?**\n",
    "    * In supervised learning, our goal is to create a model that makes predictions ($\\hat{y}$) that are as close as possible to the actual target values ($y$).\n",
    "    * A **cost function** (also called a loss function or objective function) quantifies how \"bad\" or \"wrong\" our model's predictions are for a given set of model parameters (like $b_0$ and $b_1$ in simple linear regression).\n",
    "    * The core idea of training a model is to find the specific values for its parameters that **minimize** this cost function. The lower the cost, the better our model fits the training data."
   ]
  },
  {
   "cell_type": "markdown",
   "id": "200830df-7bb5-47f4-a074-dfe4b9b9c40e",
   "metadata": {},
   "source": [
    "2.  **Mean Squared Error (MSE) for Linear Regression**\n",
    "    * For a single data point $i$, the error (or residual) is the difference between the actual value $y_i$ and the predicted value $\\hat{y}_i$:\n",
    "        $$\\text{error}_i = y_i - \\hat{y}_i$$\n",
    "    * We want to combine these errors from all $n$ data points in our training set into a single cost value.\n",
    "    * **Why square the error?**\n",
    "        1.  **Direction doesn't matter for cost:** An error of -2 is just as bad as an error of +2. Squaring makes all errors positive: $(-2)^2 = 4$ and $(2)^2 = 4$.\n",
    "        2.  **Penalizes larger errors more:** An error of 4 (squared is 16) is penalized more than twice an error of 2 (squared is 4). This often makes sense as large errors are usually more problematic.\n",
    "        3.  **Mathematical properties:** The squared error function is smooth and convex (for linear regression), meaning it has a single global minimum and its derivative is easy to calculate, which is essential for optimization algorithms like Gradient Descent.\n",
    "    * **Sum of Squared Errors (SSE) or Residual Sum of Squares (RSS):** This is the sum of all the squared errors:\n",
    "        $$\\text{SSE} = \\sum_{i=1}^{n} (y_i - \\hat{y}_i)^2$$\n",
    "    * **Mean Squared Error (MSE):** This is simply the average of the squared errors. It's often preferred over SSE because it's independent of the number of data points, making it easier to compare across datasets of different sizes.\n",
    "        $$\\text{MSE} = J(b_0, b_1, ..., b_p) = \\frac{1}{n} \\sum_{i=1}^{n} (y_i - \\hat{y}_i)^2$$\n",
    "        The notation $J(b_0, b_1, ..., b_p)$ indicates that the MSE is a function of our model's parameters (the coefficients $b_j$). For Simple Linear Regression ($ \\hat{y}_i = b_0 + b_1 x_i $):\n",
    "        $$\\text{MSE} = J(b_0, b_1) = \\frac{1}{n} \\sum_{i=1}^{n} (y_i - (b_0 + b_1 x_i))^2$$\n",
    "        For Multiple Linear Regression ($ \\hat{y}_i = b_0 + b_1 x_{i1} + ... + b_p x_{ip} $):\n",
    "        $$\\text{MSE} = J(b_0, ..., b_p) = \\frac{1}{n} \\sum_{i=1}^{n} (y_i - (b_0 + b_1 x_{i1} + ... + b_p x_{ip}))^2$$\n",
    "    * **Visualizing the Cost Function (Conceptual):**\n",
    "        * For Simple Linear Regression (with parameters $b_0$ and $b_1$), if you plot MSE against possible values of $b_0$ and $b_1$, you'd get a 3D bowl shape. Our goal is to find the coordinates ($b_0, b_1$) at the very bottom of this bowl.\n",
    "        * For Multiple Linear Regression, this \"bowl\" exists in higher dimensions, but the principle is the same: it's a convex shape, meaning there's one global minimum we're trying to find.\n",
    "\n",
    "    *(Self-correction: The factor for MSE is often $1/n$ or $1/(2n)$ for mathematical convenience in derivatives, especially when using gradient descent. Scikit-learn's `mean_squared_error` uses $1/n$. The $1/2$ factor sometimes simplifies the gradient calculation by canceling out the '2' from differentiating the squared term. The fundamental shape and location of the minimum remain the same.)*"
   ]
  },
  {
   "cell_type": "markdown",
   "id": "75ae0ba4-fadc-41cc-8268-075e2c636851",
   "metadata": {},
   "source": [
    "3.  **Why is MSE the Standard for (Basic) Linear Regression?**\n",
    "    * When the assumptions of linear regression hold (particularly normally distributed and homoscedastic errors), minimizing the MSE is equivalent to finding the **Maximum Likelihood Estimate (MLE)** for the coefficients. This gives the MSE a strong statistical grounding.\n",
    "    * As mentioned, its mathematical properties (convexity and differentiability) make it well-suited for optimization.\n",
    "\n",
    "Now that we know what we're trying to minimize (the MSE), let's look at *how* we can find the parameters that achieve this minimum. This brings us to Gradient Descent."
   ]
  },
  {
   "cell_type": "markdown",
   "id": "31d91a38-b02d-4481-9a6a-2641390cc2e7",
   "metadata": {},
   "source": [
    "---\n",
    "\n",
    "**Part 5: Gradient Descent**\n",
    "\n",
    "1.  **The Optimization Problem:**\n",
    "    Our goal is to find the values of $b_0, b_1, ..., b_p$ that minimize the cost function $J(b_0, b_1, ..., b_p)$.\n",
    "    * One way to solve this for linear regression is using the **Normal Equation**: $b = (X^T X)^{-1} X^T y$. This is an analytical solution that directly calculates the optimal coefficients in one step. Scikit-learn's `LinearRegression` often uses this (or a similar method based on matrix decomposition like SVD).\n",
    "    * However, the Normal Equation can be computationally expensive if you have a very large number of features (calculating $(X^T X)^{-1}$ is roughly $O(p^3)$ where $p$ is the number of features). Also, for many other machine learning models, an analytical solution like the Normal Equation doesn't exist.\n",
    "    * This is where **Gradient Descent**, an iterative optimization algorithm, comes in."
   ]
  },
  {
   "cell_type": "markdown",
   "id": "7d0547b1-1d81-4209-a666-68d8cfb220af",
   "metadata": {},
   "source": [
    "2.  **Intuition behind Gradient Descent:**\n",
    "    * Imagine you're standing on a foggy mountain (the cost function surface) and you want to get to the lowest point (the minimum cost).\n",
    "    * You can't see the whole landscape, but you can feel the slope of the ground under your feet.\n",
    "    * To go down, you'd take a step in the steepest downhill direction.\n",
    "    * You repeat this process, taking small steps, and eventually, you should reach the valley floor.\n",
    "    * The \"slope\" in mathematical terms is the **gradient** of the cost function. The gradient is a vector of partial derivatives of $J$ with respect to each parameter ($ \\frac{\\partial J}{\\partial b_0}, \\frac{\\partial J}{\\partial b_1}, ..., \\frac{\\partial J}{\\partial b_p} $).\n",
    "    * The gradient points in the direction of the **steepest ascent** (uphill). So, to go downhill, we move in the **opposite direction** of the gradient."
   ]
  },
  {
   "cell_type": "markdown",
   "id": "e862e99b-9242-4b39-9f55-a45c780f4b44",
   "metadata": {},
   "source": [
    "3.  **Gradient Descent Algorithm Steps:**\n",
    "    1.  **Initialize Parameters:** Start with some initial guesses for the coefficients $b_0, b_1, ..., b_p$ (e.g., all zeros or small random numbers).\n",
    "    2.  **Define a Learning Rate $\\alpha$**: This determines the size of the steps we take (more on this later).\n",
    "    3.  **Repeat** for a specified number of iterations or until the cost function stops decreasing significantly (convergence):\n",
    "        a.  **Calculate the Gradient:** Compute the partial derivative of the cost function $J$ with respect to each parameter $b_j$. For MSE and linear regression, the gradient components are:\n",
    "            For a single training example $(x_i, y_i)$ and prediction $\\hat{y}_i$:\n",
    "            $$\\frac{\\partial J}{\\partial b_0} = \\frac{1}{n} \\sum_{i=1}^{n} -2(y_i - \\hat{y}_i) = -\\frac{2}{n} \\sum_{i=1}^{n} (y_i - \\hat{y}_i)$$\n",
    "            $$\\frac{\\partial J}{\\partial b_j} = \\frac{1}{n} \\sum_{i=1}^{n} -2(y_i - \\hat{y}_i)x_{ij} = -\\frac{2}{n} \\sum_{i=1}^{n} (y_i - \\hat{y}_i)x_{ij} \\quad (\\text{for feature } j > 0)$$\n",
    "            (*Note: If MSE is defined as $\\frac{1}{2n}\\sum(...)^2$, the '2's cancel out. We'll stick to the $1/n$ definition and keep the '2' for now, or adjust the learning rate accordingly.*)\n",
    "            In vector form for all parameters $b$:\n",
    "            $$\\nabla J(b) = \\frac{2}{n} X^T (Xb - y)$$\n",
    "            where $X$ is the feature matrix (with an intercept column), $b$ is the vector of coefficients, and $y$ is the vector of actual target values. $Xb - y$ is the vector of errors $(\\hat{y} - y)$. (Note: $Xb-y$ vs $y-Xb$ just flips the sign of the gradient which is absorbed by the update rule's minus sign). Let's use $y - Xb$ to be consistent with $y_i - \\hat{y}_i$. So $\\nabla J(b) = -\\frac{2}{n} X^T (y - Xb)$.\n",
    "\n",
    "        b.  **Update Parameters:** Adjust each parameter by moving it in the opposite direction of its corresponding gradient component, scaled by the learning rate $\\alpha$:\n",
    "            $$b_j := b_j - \\alpha \\frac{\\partial J}{\\partial b_j}$$\n",
    "            This means: $ b_{\\text{new}} = b_{\\text{old}} - \\alpha \\cdot \\text{gradient} $"
   ]
  },
  {
   "cell_type": "markdown",
   "id": "bb04979c-989c-41a1-828d-46a46736a88e",
   "metadata": {},
   "source": [
    "4.  **The Learning Rate ($\\alpha$)**\n",
    "    * This is a **hyperparameter** that controls how big of a step we take downhill in each iteration.\n",
    "    * **Its choice is critical:**\n",
    "        * **Too small $\\alpha$**: Gradient descent will be very slow to converge, requiring many iterations. It might also get stuck in a shallow local minimum if the cost function isn't perfectly convex (though for linear regression with MSE, it is).\n",
    "        * **Too large $\\alpha$**: The algorithm might overshoot the minimum. Instead of converging, the cost might oscillate wildly or even diverge (increase indefinitely).\n",
    "    * Finding a good learning rate often involves some experimentation. A common practice is to try several values (e.g., 0.001, 0.01, 0.1, 1)."
   ]
  },
  {
   "cell_type": "markdown",
   "id": "be1676ba-9562-4f24-ba7a-2d59d9a16dca",
   "metadata": {},
   "source": [
    "5.  **Feature Scaling for Gradient Descent**\n",
    "    * It's **highly recommended, often essential**, to scale your features before applying gradient descent.\n",
    "    * **Why?** If features have vastly different scales (e.g., 'age' from 20-70 and 'income' from 20000-100000), the cost function surface becomes very elongated and narrow (like a stretched ellipse instead of a circle). Gradient descent will then take a very inefficient, zig-zag path to the minimum and converge very slowly.\n",
    "    * **Common scaling methods:**\n",
    "        * **Standardization (Z-score normalization):** $x' = (x - \\mu) / \\sigma$. Transforms data to have mean 0 and standard deviation 1. (Scikit-learn's `StandardScaler`)\n",
    "        * **Normalization (Min-Max scaling):** $x' = (x - \\text{min}) / (\\text{max} - \\text{min})$. Scales data to a fixed range, usually [0, 1]. (Scikit-learn's `MinMaxScaler`)\n",
    "    * Scaling ensures that the cost function surface is more symmetrical, allowing gradient descent to find the minimum much more quickly and directly."
   ]
  },
  {
   "cell_type": "code",
   "execution_count": 3,
   "id": "e20b853b-01a1-44c7-9188-9562258b6866",
   "metadata": {},
   "outputs": [],
   "source": [
    "# Let's implement a basic gradient descent for SLR. We'll use a small synthetic dataset.\n",
    "\n",
    "import numpy as np\n",
    "import matplotlib.pyplot as plt\n",
    "from sklearn.preprocessing import StandardScaler\n",
    "from sklearn.linear_model import LinearRegression # To compare"
   ]
  },
  {
   "cell_type": "code",
   "execution_count": 4,
   "id": "7844826e-f2ea-4733-95b9-f61882e4c97a",
   "metadata": {},
   "outputs": [],
   "source": [
    "# 0. Generate synthetic data for SLR\n",
    "np.random.seed(42)\n",
    "X_synth = 2 * np.random.rand(100, 1) # Single feature\n",
    "y_synth = 4 + 3 * X_synth + np.random.randn(100, 1) # y = 4 + 3x + noise\n",
    "y_synth = y_synth.ravel() # Flatten y to a 1D array for easier handling\n",
    "\n",
    "# --- Feature Scaling (Important for Gradient Descent!) ---\n",
    "# Although for one feature it might still work without, it's good practice.\n",
    "# For this simple 1D case, X_synth is already in a decent range (0-2).\n",
    "# If X_synth was, e.g., 2000 * np.random.rand(100,1), scaling would be crucial.\n",
    "# Let's proceed without explicit scaling here to keep it simpler,\n",
    "# but acknowledge its importance for multi-feature or poorly scaled data.\n",
    "\n",
    "# Add a column of ones for the intercept term (b0)\n",
    "# X_b will be [x0, x1] where x0 is always 1\n",
    "X_b_synth = np.c_[np.ones((100, 1)), X_synth]"
   ]
  },
  {
   "cell_type": "code",
   "execution_count": 5,
   "id": "7d7bf98b-a120-44c0-a5c3-e4bffef6a9f7",
   "metadata": {},
   "outputs": [
    {
     "name": "stdout",
     "output_type": "stream",
     "text": [
      "Initial b0 (intercept): 0.0130, Initial b1 (slope): 1.4535\n"
     ]
    }
   ],
   "source": [
    "# 1. Initialize Parameters\n",
    "b_manual = np.random.randn(2) # b0, b1 (intercept, slope)\n",
    "print(f\"Initial b0 (intercept): {b_manual[0]:.4f}, Initial b1 (slope): {b_manual[1]:.4f}\")"
   ]
  },
  {
   "cell_type": "code",
   "execution_count": 6,
   "id": "66303cbe-1604-4dd8-b9de-bb2f60b048c4",
   "metadata": {},
   "outputs": [],
   "source": [
    "# 2. Hyperparameters\n",
    "learning_rate = 0.1\n",
    "n_iterations = 1000\n",
    "n_samples = len(X_synth)\n",
    "\n",
    "cost_history = []"
   ]
  },
  {
   "cell_type": "code",
   "execution_count": 7,
   "id": "0ada1093-2853-4048-8fd8-857fb18d4d9c",
   "metadata": {},
   "outputs": [
    {
     "name": "stdout",
     "output_type": "stream",
     "text": [
      "Iteration 0: MSE = 31.0093, b0 = 1.1010, b1 = 2.5690\n",
      "Iteration 100: MSE = 0.8075, b0 = 4.1629, b1 = 2.8162\n",
      "Iteration 200: MSE = 0.8066, b0 = 4.2134, b1 = 2.7716\n",
      "Iteration 300: MSE = 0.8066, b0 = 4.2150, b1 = 2.7702\n",
      "Iteration 400: MSE = 0.8066, b0 = 4.2151, b1 = 2.7701\n",
      "Iteration 500: MSE = 0.8066, b0 = 4.2151, b1 = 2.7701\n",
      "Iteration 600: MSE = 0.8066, b0 = 4.2151, b1 = 2.7701\n",
      "Iteration 700: MSE = 0.8066, b0 = 4.2151, b1 = 2.7701\n",
      "Iteration 800: MSE = 0.8066, b0 = 4.2151, b1 = 2.7701\n",
      "Iteration 900: MSE = 0.8066, b0 = 4.2151, b1 = 2.7701\n",
      "\n",
      "After 1000 iterations:\n",
      "Learned b0 (intercept): 4.2151\n",
      "Learned b1 (slope): 2.7701\n"
     ]
    }
   ],
   "source": [
    "# 3. Gradient Descent Loop\n",
    "for iteration in range(n_iterations):\n",
    "    predictions = X_b_synth.dot(b_manual) # y_hat = X_b * b\n",
    "    errors = predictions - y_synth       # y_hat - y (sign depends on gradient formula used)\n",
    "                                         # If J = (y - y_hat)^2, gradient uses (y_hat - y)\n",
    "                                         # If J = (y_hat - y)^2, gradient uses (y_hat - y)\n",
    "                                         # Let's use J = 1/n * sum((y_hat - y)^2)\n",
    "                                         # dJ/db = 2/n * X_b.T * (X_b * b - y)\n",
    "    \n",
    "    gradients = (2/n_samples) * X_b_synth.T.dot(errors) # dJ/db\n",
    "    b_manual = b_manual - learning_rate * gradients   # Update rule\n",
    "\n",
    "    mse = np.mean(errors**2)\n",
    "    cost_history.append(mse)\n",
    "\n",
    "    if iteration % 100 == 0:\n",
    "        print(f\"Iteration {iteration}: MSE = {mse:.4f}, b0 = {b_manual[0]:.4f}, b1 = {b_manual[1]:.4f}\")\n",
    "\n",
    "print(f\"\\nAfter {n_iterations} iterations:\")\n",
    "print(f\"Learned b0 (intercept): {b_manual[0]:.4f}\")\n",
    "print(f\"Learned b1 (slope): {b_manual[1]:.4f}\")"
   ]
  },
  {
   "cell_type": "code",
   "execution_count": 8,
   "id": "9eff94bf-0b27-4295-b718-cc4b323f3346",
   "metadata": {},
   "outputs": [
    {
     "data": {
      "image/png": "[encoded data removed]",
      "text/plain": [
       "<Figure size 1000x600 with 1 Axes>"
      ]
     },
     "metadata": {},
     "output_type": "display_data"
    }
   ],
   "source": [
    "# Plot cost history\n",
    "plt.figure(figsize=(10,6))\n",
    "plt.plot(range(n_iterations), cost_history)\n",
    "plt.xlabel(\"Iteration\")\n",
    "plt.ylabel(\"Mean Squared Error (MSE)\")\n",
    "plt.title(\"Cost Function (MSE) During Gradient Descent\")\n",
    "plt.grid(True)\n",
    "plt.show()"
   ]
  },
  {
   "cell_type": "code",
   "execution_count": 9,
   "id": "a1e5ddc0-744c-44fd-a96b-abbdc5164523",
   "metadata": {},
   "outputs": [
    {
     "name": "stdout",
     "output_type": "stream",
     "text": [
      "\n",
      "Scikit-learn LinearRegression results:\n",
      "Intercept (b0): 4.2151\n",
      "Coefficient (b1): 2.7701\n"
     ]
    }
   ],
   "source": [
    "# Compare with Scikit-learn's LinearRegression (which uses Normal Equation)\n",
    "lr_sklearn = LinearRegression()\n",
    "lr_sklearn.fit(X_synth, y_synth) # X_synth is original single feature here\n",
    "print(\"\\nScikit-learn LinearRegression results:\")\n",
    "print(f\"Intercept (b0): {lr_sklearn.intercept_:.4f}\")\n",
    "print(f\"Coefficient (b1): {lr_sklearn.coef_[0]:.4f}\")\n",
    "\n",
    "# We expect our manual b0 and b1 to be close to Scikit-learn's results.\n",
    "# True values were b0=4, b1=3."
   ]
  },
  {
   "cell_type": "markdown",
   "id": "a2653c7b-4a61-480b-946b-43d8d30a9bd4",
   "metadata": {},
   "source": [
    "**Explanation of the Code:**\n",
    "* We generate simple data where the true intercept is 4 and the true slope is 3.\n",
    "* `X_b_synth` is created by adding a column of ones to our feature `X_synth`. This is a common trick so that the intercept $b_0$ can be treated as a coefficient for this \"dummy\" feature $x_0=1$, simplifying matrix calculations.\n",
    "* We initialize $b_0$ and $b_1$ randomly.\n",
    "* In each iteration:\n",
    "    * We calculate predictions using current $b_0, b_1$.\n",
    "    * We calculate errors.\n",
    "    * We compute the gradients for $b_0$ and $b_1$.\n",
    "    * We update $b_0$ and $b_1$ using the learning rate and gradients.\n",
    "    * We store the MSE to see how it decreases.\n",
    "* The plot of MSE over iterations should show a steep drop initially and then a plateau as it converges to the minimum.\n",
    "* The final `b_manual` values should be close to the true values (4 and 3) and also to what Scikit-learn's `LinearRegression` finds.\n",
    "\n",
    "**Effect of Learning Rate (Conceptual):**\n",
    "* If you set `learning_rate` to a very small value (e.g., 0.001), you'll see the cost decrease much slower, and it might not reach the minimum in 1000 iterations.\n",
    "* If you set `learning_rate` too high (e.g., 0.9 or 1.0 for this data), you might see the MSE bounce around erratically or even increase, indicating divergence."
   ]
  },
  {
   "cell_type": "markdown",
   "id": "fb46e411-8384-4d1f-ac7b-8e095e58b83f",
   "metadata": {},
   "source": [
    "**6. Types of Gradient Descent (Brief Overview)**\n",
    "\n",
    "* **Batch Gradient Descent (what we implemented above):**\n",
    "    * Calculates the gradient using the *entire* training dataset in each iteration.\n",
    "    * Pros: Smooth, reliable convergence towards the global minimum (for convex functions).\n",
    "    * Cons: Can be very slow and memory-intensive if the dataset is massive, as all data must be processed for each tiny step.\n",
    "* **Stochastic Gradient Descent (SGD):**\n",
    "    * Updates the parameters using the gradient calculated from only *one randomly selected training sample* per iteration.\n",
    "    * Pros: Much faster iterations. Can escape shallow local minima due to noisy updates. Good for very large datasets and online learning (where data arrives sequentially).\n",
    "    * Cons: Updates are noisy, so the cost function will fluctuate more. Typically requires a gradually decreasing learning rate (learning rate schedule) to eventually settle near the minimum. May not converge to the exact minimum but gets very close.\n",
    "* **Mini-Batch Gradient Descent:**\n",
    "    * A compromise between Batch GD and SGD.\n",
    "    * Updates parameters using a small, randomly selected *batch* of training samples (e.g., 32, 64, 128 samples) per iteration.\n",
    "    * Pros: Balances the stability of Batch GD with the speed of SGD. More efficient computation than SGD due to vectorization over the mini-batch. Most commonly used in practice, especially in deep learning.\n",
    "    * Cons: Adds another hyperparameter (batch size)."
   ]
  },
  {
   "cell_type": "markdown",
   "id": "1e407521-7a8b-48bb-af61-61a1e661fb83",
   "metadata": {},
   "source": [
    "**7. Gradient Descent in Scikit-learn**\n",
    "* `sklearn.linear_model.LinearRegression`: Typically uses an analytical solver (like the Normal Equation via `scipy.linalg.lstsq`), not Gradient Descent. It's very efficient for datasets that fit in memory and don't have an astronomical number of features.\n",
    "* `sklearn.linear_model.SGDRegressor`: Implements linear regression (and other models) using Stochastic Gradient Descent.\n",
    "    * It's very useful for large datasets (supports out-of-core learning with the `partial_fit` method).\n",
    "    * **Requires feature scaling.**\n",
    "    * Has hyperparameters like `eta0` (initial learning rate), `learning_rate` schedule (e.g., 'constant', 'optimal', 'invscaling'), `max_iter`, `tol`.\n",
    "\n",
    "This covers the Cost Function (MSE) and Gradient Descent. These are foundational concepts for understanding how many machine learning algorithms are trained."
   ]
  },
  {
   "cell_type": "code",
   "execution_count": null,
   "id": "174de7d8-2cde-4600-a28c-c0d698059abd",
   "metadata": {},
   "outputs": [],
   "source": []
  }
 ],
 "metadata": {
  "kernelspec": {
   "display_name": "Python 3 (ipykernel)",
   "language": "python",
   "name": "python3"
  },
  "language_info": {
   "codemirror_mode": {
    "name": "ipython",
    "version": 3
   },
   "file_extension": ".py",
   "mimetype": "text/x-python",
   "name": "python",
   "nbconvert_exporter": "python",
   "pygments_lexer": "ipython3",
   "version": "3.13.3"
  }
 },
 "nbformat": 4,
 "nbformat_minor": 5
}
