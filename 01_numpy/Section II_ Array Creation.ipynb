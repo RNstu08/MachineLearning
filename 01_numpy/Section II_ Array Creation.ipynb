{
 "cells": [
  {
   "cell_type": "code",
   "execution_count": 2,
   "id": "e735c63a-f02b-4980-a3f8-2bcf76d1e1e1",
   "metadata": {},
   "outputs": [
    {
     "name": "stdout",
     "output_type": "stream",
     "text": [
      "Collecting numpy\n",
      "  Using cached numpy-2.2.5-cp310-cp310-win_amd64.whl (12.9 MB)\n",
      "Installing collected packages: numpy\n",
      "Successfully installed numpy-2.2.5\n"
     ]
    },
    {
     "name": "stderr",
     "output_type": "stream",
     "text": [
      "\n",
      "[notice] A new release of pip is available: 23.0.1 -> 25.1.1\n",
      "[notice] To update, run: python.exe -m pip install --upgrade pip\n"
     ]
    }
   ],
   "source": [
    "!pip install numpy"
   ]
  },
  {
   "cell_type": "code",
   "execution_count": 4,
   "id": "caef661d-7f65-4b6f-943b-6a644501325d",
   "metadata": {},
   "outputs": [],
   "source": [
    "# Import the NumPy library with its standard alias\n",
    "import numpy as np"
   ]
  },
  {
   "cell_type": "markdown",
   "id": "ea35710d-126e-44f6-8dd5-5684fa98f076",
   "metadata": {},
   "source": [
    "## 1. From Python Structures (Lists, Tuples)\n",
    "\n",
    "- Using np.array() - The most fundamental way.\n",
    "- It infers the data type unless specified"
   ]
  },
  {
   "cell_type": "markdown",
   "id": "1cffbbb4-e781-47a0-a657-6a0721d06154",
   "metadata": {},
   "source": [
    "#### - Create a array from a list of lists (matrix)\n",
    "##### Create a 1D array from a list"
   ]
  },
  {
   "cell_type": "code",
   "execution_count": 96,
   "id": "ef5f4ff1-4abc-40d1-b09d-64886a7f8e8f",
   "metadata": {},
   "outputs": [
    {
     "name": "stdout",
     "output_type": "stream",
     "text": [
      "1D array from list:\n",
      " [1 2 3 4 5]\n",
      "Data type: int64\n",
      "--------------------\n"
     ]
    }
   ],
   "source": [
    "list_1d = [1, 2, 3, 4, 5]\n",
    "arr_1d = np.array(list_1d)\n",
    "\n",
    "print(\"1D array from list:\\n\", arr_1d)\n",
    "print(\"Data type:\", arr_1d.dtype) # Output: int64 (or int32 depending on system)\n",
    "print(\"-\" * 20)"
   ]
  },
  {
   "cell_type": "markdown",
   "id": "f0819c89-05ff-4fec-b11a-bfddd96ca9c9",
   "metadata": {},
   "source": [
    "##### Create a 2D array from a list"
   ]
  },
  {
   "cell_type": "code",
   "execution_count": 95,
   "id": "7358540d-7041-486f-8a68-3d4c6040d216",
   "metadata": {},
   "outputs": [
    {
     "name": "stdout",
     "output_type": "stream",
     "text": [
      "2D array from list of lists:\n",
      " [[1 2 3]\n",
      " [4 5 6]]\n",
      "Shape: (2, 3)\n",
      "--------------------\n"
     ]
    }
   ],
   "source": [
    "list_2d = [1, 2, 3], [4, 5, 6]\n",
    "arr_2d = np.array(list_2d)\n",
    "\n",
    "print(\"2D array from list of lists:\\n\", arr_2d)\n",
    "print(\"Shape:\", arr_2d.shape) # Output: (2, 3) -> 2 rows, 3 columns\n",
    "print(\"-\" * 20)"
   ]
  },
  {
   "cell_type": "markdown",
   "id": "62f7010c-3889-4b6f-a41a-88115b9e7c07",
   "metadata": {},
   "source": [
    "##### Create a 3D array from a list"
   ]
  },
  {
   "cell_type": "code",
   "execution_count": 94,
   "id": "f2ebd385-25fc-41b4-ac91-4e222942c32a",
   "metadata": {},
   "outputs": [
    {
     "name": "stdout",
     "output_type": "stream",
     "text": [
      "3D array from list of lists:\n",
      " [[1 2 3]\n",
      " [4 5 6]\n",
      " [7 8 9]]\n",
      "Shape: (3, 3)\n",
      "--------------------\n"
     ]
    }
   ],
   "source": [
    "list_3d = [1, 2, 3], [4, 5, 6], [7, 8, 9]\n",
    "arr_3d = np.array(list_3d)\n",
    "\n",
    "print(\"3D array from list of lists:\\n\", arr_3d)\n",
    "print(\"Shape:\", arr_3d.shape) # Output: (3, 3) -> 3 rows, 3 columns\n",
    "print(\"-\" * 20)"
   ]
  },
  {
   "cell_type": "markdown",
   "id": "a4154ceb-8e3a-492f-9abb-7169fd1eb8e6",
   "metadata": {},
   "source": [
    "#### - Create an array from a tuple"
   ]
  },
  {
   "cell_type": "code",
   "execution_count": 93,
   "id": "55c64d1b-962e-4fe2-bb9d-ff3ac68f98c0",
   "metadata": {},
   "outputs": [
    {
     "name": "stdout",
     "output_type": "stream",
     "text": [
      "Array from tuple:\n",
      " [10 20 30]\n",
      "--------------------\n"
     ]
    }
   ],
   "source": [
    "tuple_1 = (10, 20, 30)\n",
    "array_from_tuple = np.array(tuple_1)\n",
    "\n",
    "print(\"Array from tuple:\\n\", array_from_tuple)\n",
    "print(\"-\" * 20)"
   ]
  },
  {
   "cell_type": "markdown",
   "id": "e1a4b421-4807-4aec-962a-f0d98e7706f3",
   "metadata": {},
   "source": [
    "#### - Specify the data type during creation"
   ]
  },
  {
   "cell_type": "code",
   "execution_count": 23,
   "id": "1b6d28d9-975b-4894-82b0-4aa53096ffde",
   "metadata": {},
   "outputs": [
    {
     "name": "stdout",
     "output_type": "stream",
     "text": [
      "Array with specified float dtype:\n",
      "  [1. 2. 3.]\n",
      "Data type:  float64\n"
     ]
    }
   ],
   "source": [
    "arr_float = np.array([1, 2, 3], dtype = np.float64)\n",
    "\n",
    "print(\"Array with specified float dtype:\\n \", arr_float)\n",
    "print(\"Data type: \", arr_float.dtype)"
   ]
  },
  {
   "cell_type": "code",
   "execution_count": 92,
   "id": "4d4620ea-902c-46c5-bb7f-f5ead83d4ed0",
   "metadata": {},
   "outputs": [
    {
     "name": "stdout",
     "output_type": "stream",
     "text": [
      "Array with specified complex dtype:\n",
      " [1.+2.j 3.+4.j]\n",
      "Data type: complex128\n",
      "--------------------\n"
     ]
    }
   ],
   "source": [
    "arr_complex = np.array([1+2j, 3+4j], dtype=np.complex128)\n",
    "\n",
    "print(\"Array with specified complex dtype:\\n\", arr_complex)\n",
    "print(\"Data type:\", arr_complex.dtype) # Output: complex128\n",
    "print(\"-\" * 20)"
   ]
  },
  {
   "cell_type": "markdown",
   "id": "53fea4fd-c522-4147-a97e-dca721701de5",
   "metadata": {},
   "source": [
    "## 2. Intrinsic Creation Functions (Array Generators)\n",
    "#### np.arange()\n",
    "- np.arange(): Like Python's range, but returns an array\n",
    "- **np.arange(start, stop, step)** - 'stop' is exclusive"
   ]
  },
  {
   "cell_type": "code",
   "execution_count": 28,
   "id": "63c29abd-e984-4c0d-9446-473687f90bc8",
   "metadata": {},
   "outputs": [
    {
     "name": "stdout",
     "output_type": "stream",
     "text": [
      "np.arange(10): \n",
      " [0 1 2 3 4 5 6 7 8 9]\n"
     ]
    }
   ],
   "source": [
    "arr_range = np.arange(10)\n",
    "print(\"np.arange(10): \\n\", arr_range)"
   ]
  },
  {
   "cell_type": "code",
   "execution_count": 29,
   "id": "f2c1dbca-6f9d-4de7-a9d1-855e9daefaa8",
   "metadata": {},
   "outputs": [
    {
     "name": "stdout",
     "output_type": "stream",
     "text": [
      "np.arange(0, 10, 2): \n",
      " [0 2 4 6 8]\n"
     ]
    }
   ],
   "source": [
    "arr_range_step = np.arange(0, 10, 2)\n",
    "print(\"np.arange(0, 10, 2): \\n\", arr_range_step)"
   ]
  },
  {
   "cell_type": "code",
   "execution_count": 91,
   "id": "802e27eb-25a5-4482-9510-52a6925a06ed",
   "metadata": {},
   "outputs": [
    {
     "name": "stdout",
     "output_type": "stream",
     "text": [
      "np.arange(0.0, 1.0, 0.2):\n",
      " [0.  0.2 0.4 0.6 0.8]\n",
      "--------------------\n"
     ]
    }
   ],
   "source": [
    "arr_range_float = np.arange(0.0, 1.0, 0.2) # Floats work too\n",
    "print(\"np.arange(0.0, 1.0, 0.2):\\n\", arr_range_float)\n",
    "print(\"-\" * 20)"
   ]
  },
  {
   "cell_type": "markdown",
   "id": "d74000b3-42bf-426a-a038-999cb7b52354",
   "metadata": {},
   "source": [
    "#### np.linspace()\n",
    "- np.linspace(): Evenly spaced numbers over a specified interval\n",
    "- **np.linspace(start, stop, num)** - 'stop' is *inclusive* by default\n",
    "- 'num' is the number of points to generate"
   ]
  },
  {
   "cell_type": "code",
   "execution_count": 33,
   "id": "dfcd83d0-41a1-452a-a6e8-1ca6b31754a7",
   "metadata": {},
   "outputs": [
    {
     "name": "stdout",
     "output_type": "stream",
     "text": [
      "np.linspace(0, 20, 5): \n",
      " [ 0.  5. 10. 15. 20.]\n"
     ]
    }
   ],
   "source": [
    "arr_linspace = np.linspace(0, 20, 5) # 5 numbers from 0 to 10 (inclusive)\n",
    "print(\"np.linspace(0, 20, 5): \\n\", arr_linspace)"
   ]
  },
  {
   "cell_type": "code",
   "execution_count": 90,
   "id": "e56b64bb-df0e-44c5-acc4-ab32c3822c43",
   "metadata": {},
   "outputs": [
    {
     "name": "stdout",
     "output_type": "stream",
     "text": [
      "np.linspace(0, 20, 5, endpoint=False): \n",
      " [ 0.  4.  8. 12. 16.]\n",
      "--------------------\n"
     ]
    }
   ],
   "source": [
    "arr_linspace_excl = np.linspace(0, 20, 5, endpoint=False) # Exclude endpoint\n",
    "print(\"np.linspace(0, 20, 5, endpoint=False): \\n\", arr_linspace_excl)\n",
    "print(\"-\" * 20)"
   ]
  },
  {
   "cell_type": "markdown",
   "id": "fbcff011-5845-4bf9-8110-087c568e09a5",
   "metadata": {},
   "source": [
    "#### np.zeros()\n",
    "- np.zeros(): Array filled with zeros\n",
    "- Takes a shape tuple as input"
   ]
  },
  {
   "cell_type": "code",
   "execution_count": 37,
   "id": "ff51066e-250b-4788-88fa-0d0c21f8989d",
   "metadata": {},
   "outputs": [
    {
     "name": "stdout",
     "output_type": "stream",
     "text": [
      "np.zeros(5):\n",
      " [0. 0. 0. 0. 0.]\n"
     ]
    }
   ],
   "source": [
    "zeros_1d = np.zeros(5) # 1D array of 5 zeros\n",
    "print(\"np.zeros(5):\\n\", zeros_1d)"
   ]
  },
  {
   "cell_type": "code",
   "execution_count": 39,
   "id": "c91ccfeb-0ae4-4a29-8432-b4b3f3f9d2ca",
   "metadata": {},
   "outputs": [
    {
     "name": "stdout",
     "output_type": "stream",
     "text": [
      "np.zeros((2, 4)):\n",
      " [[0. 0. 0. 0.]\n",
      " [0. 0. 0. 0.]]\n"
     ]
    }
   ],
   "source": [
    "zeros_2d = np.zeros((2, 4)) # 2x4 array of zeros\n",
    "print(\"np.zeros((2, 4)):\\n\", zeros_2d)"
   ]
  },
  {
   "cell_type": "code",
   "execution_count": 40,
   "id": "02d2e475-9bbc-40e4-8f78-fa65d6bc9c8a",
   "metadata": {},
   "outputs": [
    {
     "name": "stdout",
     "output_type": "stream",
     "text": [
      "Data type (default): float64\n"
     ]
    }
   ],
   "source": [
    "print(\"Data type (default):\", zeros_2d.dtype) # Default is float64"
   ]
  },
  {
   "cell_type": "code",
   "execution_count": 89,
   "id": "ef9525b9-a59d-40ea-a152-982d6fcf29d1",
   "metadata": {},
   "outputs": [
    {
     "name": "stdout",
     "output_type": "stream",
     "text": [
      "np.zeros((3, 2), dtype = np.int32): \n",
      " [[0 0]\n",
      " [0 0]\n",
      " [0 0]]\n",
      "Data type (specified):  int32\n",
      "--------------------\n"
     ]
    }
   ],
   "source": [
    "zeros_int = np.zeros((3, 2), dtype = np.int32) # Specify integer type\n",
    "print(\"np.zeros((3, 2), dtype = np.int32): \\n\", zeros_int)\n",
    "print(\"Data type (specified): \", zeros_int.dtype)\n",
    "print(\"-\" * 20)"
   ]
  },
  {
   "cell_type": "markdown",
   "id": "276b8ab5-1b9c-48b8-a6ff-e1b856c72772",
   "metadata": {},
   "source": [
    "#### np.ones()\n",
    "- np.ones(): Array filled with ones\n",
    "- Takes a shape tuple as input"
   ]
  },
  {
   "cell_type": "code",
   "execution_count": 62,
   "id": "eb65e1f8-c62f-49f4-a037-1f8716658fff",
   "metadata": {},
   "outputs": [
    {
     "name": "stdout",
     "output_type": "stream",
     "text": [
      "np.ones(3):\n",
      " [1. 1. 1.]\n"
     ]
    }
   ],
   "source": [
    "ones_1d = np.ones(3)\n",
    "print(\"np.ones(3):\\n\", ones_1d)"
   ]
  },
  {
   "cell_type": "code",
   "execution_count": 63,
   "id": "49b0ef43-c36f-4fc6-a822-a6cc773c029a",
   "metadata": {},
   "outputs": [
    {
     "name": "stdout",
     "output_type": "stream",
     "text": [
      "np.ones((2, 3, 2)):\n",
      " [[[1. 1.]\n",
      "  [1. 1.]\n",
      "  [1. 1.]]\n",
      "\n",
      " [[1. 1.]\n",
      "  [1. 1.]\n",
      "  [1. 1.]]]\n",
      "Data type (default): float64\n"
     ]
    }
   ],
   "source": [
    "ones_3d = np.ones((2, 3, 2)) # 3D array (2 matrices of 3x2)\n",
    "print(\"np.ones((2, 3, 2)):\\n\", ones_3d)\n",
    "print(\"Data type (default):\", ones_3d.dtype) # Default is float64"
   ]
  },
  {
   "cell_type": "code",
   "execution_count": 88,
   "id": "abbb888f-5fab-4bdd-9c88-3cc146aa4735",
   "metadata": {},
   "outputs": [
    {
     "name": "stdout",
     "output_type": "stream",
     "text": [
      "--------------------\n"
     ]
    }
   ],
   "source": [
    "ones_3d.shape\n",
    "print(\"-\" * 20)"
   ]
  },
  {
   "cell_type": "markdown",
   "id": "45494f23-7b7b-430c-900b-fee803bf29f8",
   "metadata": {},
   "source": [
    "#### np.full()\n",
    "- np.full(): Array filled with a specific value\n",
    "- **np.full(shape, fill_value)**"
   ]
  },
  {
   "cell_type": "code",
   "execution_count": 74,
   "id": "07b716b4-4c49-4cd6-a21e-74d61a7260e0",
   "metadata": {},
   "outputs": [
    {
     "name": "stdout",
     "output_type": "stream",
     "text": [
      "np.full((2, 5), 10.1):\n",
      " [[10.1 10.1 10.1 10.1 10.1]\n",
      " [10.1 10.1 10.1 10.1 10.1]]\n"
     ]
    }
   ],
   "source": [
    "full_arr = np.full((2, 5), 10.1) # 2x5 array filled with 7.5\n",
    "print(\"np.full((2, 5), 10.1):\\n\", full_arr)"
   ]
  },
  {
   "cell_type": "code",
   "execution_count": 75,
   "id": "229bd54b-3ddc-4233-9472-cf80f3a55f43",
   "metadata": {},
   "outputs": [
    {
     "name": "stdout",
     "output_type": "stream",
     "text": [
      "np.full(3, 'hello'):\n",
      " ['hello' 'hello' 'hello']\n"
     ]
    }
   ],
   "source": [
    "full_str = np.full(3, \"hello\") # Can fill with other types too\n",
    "print(\"np.full(3, 'hello'):\\n\", full_str)"
   ]
  },
  {
   "cell_type": "code",
   "execution_count": 77,
   "id": "4a2c92c1-cf57-4872-b51e-caca1b7044fc",
   "metadata": {},
   "outputs": [
    {
     "name": "stdout",
     "output_type": "stream",
     "text": [
      "np.full((3,3), 'hi'):\n",
      " [['hi' 'hi' 'hi']\n",
      " ['hi' 'hi' 'hi']\n",
      " ['hi' 'hi' 'hi']]\n"
     ]
    }
   ],
   "source": [
    "full_str_1 = np.full((3,3), \"hi\") # Can fill with other types too\n",
    "print(\"np.full((3,3), 'hi'):\\n\", full_str_1)"
   ]
  },
  {
   "cell_type": "code",
   "execution_count": 80,
   "id": "4ea42e4c-7000-4b4a-95e4-3b5383bedbe5",
   "metadata": {},
   "outputs": [
    {
     "name": "stdout",
     "output_type": "stream",
     "text": [
      "Data type: <U5\n",
      "--------------------\n"
     ]
    }
   ],
   "source": [
    "print(\"Data type:\", full_str.dtype) # Inferred dtype ('<U5' for unicode string length 5)\n",
    "print(\"-\" * 20)"
   ]
  },
  {
   "cell_type": "markdown",
   "id": "f8300e05-60e4-4f17-b846-551e2923a138",
   "metadata": {},
   "source": [
    "#### np.eye()\n",
    "- np.eye(): Creates a 2D identity matrix (1s on diagonal, 0s elsewhere)\n",
    "- **np.eye(N, M=None, k=0)**\n",
    "- N: number of rows\n",
    "- M: number of columns (defaults to N)\n",
    "- k: index of the diagonal (0=main, positive=upper, negative=lower)"
   ]
  },
  {
   "cell_type": "code",
   "execution_count": 81,
   "id": "f1906032-a07b-4161-9d4e-aaaabd48246b",
   "metadata": {},
   "outputs": [
    {
     "name": "stdout",
     "output_type": "stream",
     "text": [
      "np.eye(4):\n",
      " [[1. 0. 0. 0.]\n",
      " [0. 1. 0. 0.]\n",
      " [0. 0. 1. 0.]\n",
      " [0. 0. 0. 1.]]\n"
     ]
    }
   ],
   "source": [
    "eye_mat = np.eye(4) # 4x4 identity matrix\n",
    "print(\"np.eye(4):\\n\", eye_mat)"
   ]
  },
  {
   "cell_type": "code",
   "execution_count": 86,
   "id": "7e25fbb8-7cd4-4955-9194-f46c3681579b",
   "metadata": {},
   "outputs": [
    {
     "name": "stdout",
     "output_type": "stream",
     "text": [
      "np.eye(4, k=1):\n",
      " [[0. 1. 0. 0.]\n",
      " [0. 0. 1. 0.]\n",
      " [0. 0. 0. 1.]\n",
      " [0. 0. 0. 0.]]\n"
     ]
    }
   ],
   "source": [
    "eye_mat_k1 = np.eye(4, k=1) # Diagonal offset by 1 (upper)\n",
    "print(\"np.eye(4, k=1):\\n\", eye_mat_k1)"
   ]
  },
  {
   "cell_type": "code",
   "execution_count": 87,
   "id": "b5f10fdf-cee8-44ba-8f0f-aed8543e66da",
   "metadata": {},
   "outputs": [
    {
     "name": "stdout",
     "output_type": "stream",
     "text": [
      "np.eye(3, 5):\n",
      " [[1. 0. 0. 0. 0.]\n",
      " [0. 1. 0. 0. 0.]\n",
      " [0. 0. 1. 0. 0.]]\n",
      "--------------------\n"
     ]
    }
   ],
   "source": [
    "eye_mat_rect = np.eye(3, 5) # Rectangular matrix (3x5)\n",
    "print(\"np.eye(3, 5):\\n\", eye_mat_rect)\n",
    "print(\"-\" * 20)"
   ]
  },
  {
   "cell_type": "markdown",
   "id": "c06cac7e-00c8-4dad-ad97-44a113b36314",
   "metadata": {},
   "source": [
    "#### np.identity()\n",
    "- np.identity(): Similar to eye, but specifically for square identity matrices (k=0)"
   ]
  },
  {
   "cell_type": "code",
   "execution_count": 99,
   "id": "79ec0409-c9ff-4124-8ead-49f86e8247bb",
   "metadata": {},
   "outputs": [
    {
     "name": "stdout",
     "output_type": "stream",
     "text": [
      "np.identity(3):\n",
      " [[1. 0. 0.]\n",
      " [0. 1. 0.]\n",
      " [0. 0. 1.]]\n",
      "--------------------\n"
     ]
    }
   ],
   "source": [
    "identity_mat = np.identity(3) # 3x3 identity matrix\n",
    "print(\"np.identity(3):\\n\", identity_mat)\n",
    "print(\"-\" * 20)"
   ]
  },
  {
   "cell_type": "markdown",
   "id": "8e734401-815c-4f3b-a76f-b798e6ade9f4",
   "metadata": {},
   "source": [
    "#### np.empty()\n",
    "- np.empty(): Creates an \"empty\" array with the given shape.\n",
    "- The initial content is arbitrary and depends on the memory state.\n",
    "- Useful when you plan to fill the array later and want to skip zero initialization."
   ]
  },
  {
   "cell_type": "code",
   "execution_count": 100,
   "id": "1df105a3-9504-413b-965d-b9f0d231b111",
   "metadata": {},
   "outputs": [
    {
     "name": "stdout",
     "output_type": "stream",
     "text": [
      "np.empty((2, 3)) (values are uninitialized):\n",
      " [[4.9e-324 9.9e-324 1.5e-323]\n",
      " [2.0e-323 2.5e-323 3.0e-323]]\n",
      "--------------------\n"
     ]
    }
   ],
   "source": [
    "empty_arr = np.empty((2, 3))\n",
    "print(\"np.empty((2, 3)) (values are uninitialized):\\n\", empty_arr)\n",
    "print(\"-\" * 20)"
   ]
  },
  {
   "cell_type": "code",
   "execution_count": 101,
   "id": "6323cae4-5fc0-45dd-b322-3c28b2982599",
   "metadata": {},
   "outputs": [
    {
     "name": "stdout",
     "output_type": "stream",
     "text": [
      "Existing array:\n",
      " [[1. 2.]\n",
      " [3. 4.]]\n",
      "Shape: (2, 2) Dtype: float32\n"
     ]
    }
   ],
   "source": [
    "# _like functions: Create arrays with the same shape and dtype as another array\n",
    "existing_arr = np.array([[1, 2], [3, 4]], dtype=np.float32)\n",
    "print(\"Existing array:\\n\", existing_arr)\n",
    "print(\"Shape:\", existing_arr.shape, \"Dtype:\", existing_arr.dtype)"
   ]
  },
  {
   "cell_type": "code",
   "execution_count": 102,
   "id": "ed1b8c98-87f8-4e64-827c-77cae0d06aaa",
   "metadata": {},
   "outputs": [
    {
     "name": "stdout",
     "output_type": "stream",
     "text": [
      "np.zeros_like(existing_arr):\n",
      " [[0. 0.]\n",
      " [0. 0.]]\n",
      "Shape: (2, 2) Dtype: float32\n"
     ]
    }
   ],
   "source": [
    "zeros_like_arr = np.zeros_like(existing_arr)\n",
    "print(\"np.zeros_like(existing_arr):\\n\", zeros_like_arr)\n",
    "print(\"Shape:\", zeros_like_arr.shape, \"Dtype:\", zeros_like_arr.dtype)"
   ]
  },
  {
   "cell_type": "code",
   "execution_count": 103,
   "id": "5ae4adf4-9482-44dc-88a2-d6f7a7f0efe3",
   "metadata": {},
   "outputs": [
    {
     "name": "stdout",
     "output_type": "stream",
     "text": [
      "np.ones_like(existing_arr):\n",
      " [[1. 1.]\n",
      " [1. 1.]]\n",
      "Shape: (2, 2) Dtype: float32\n"
     ]
    }
   ],
   "source": [
    "ones_like_arr = np.ones_like(existing_arr)\n",
    "print(\"np.ones_like(existing_arr):\\n\", ones_like_arr)\n",
    "print(\"Shape:\", ones_like_arr.shape, \"Dtype:\", ones_like_arr.dtype)"
   ]
  },
  {
   "cell_type": "code",
   "execution_count": 104,
   "id": "2e298f45-cca2-4d15-b573-cca1c324fd5b",
   "metadata": {},
   "outputs": [
    {
     "name": "stdout",
     "output_type": "stream",
     "text": [
      "np.full_like(existing_arr, -1):\n",
      " [[-1. -1.]\n",
      " [-1. -1.]]\n",
      "Shape: (2, 2) Dtype: float32\n"
     ]
    }
   ],
   "source": [
    "full_like_arr = np.full_like(existing_arr, -1)\n",
    "print(\"np.full_like(existing_arr, -1):\\n\", full_like_arr)\n",
    "print(\"Shape:\", full_like_arr.shape, \"Dtype:\", full_like_arr.dtype)"
   ]
  },
  {
   "cell_type": "code",
   "execution_count": 105,
   "id": "fc2aef68-495f-4e64-a45e-d97bba5f7db8",
   "metadata": {},
   "outputs": [
    {
     "name": "stdout",
     "output_type": "stream",
     "text": [
      "np.empty_like(existing_arr) (uninitialized):\n",
      " [[1. 1.]\n",
      " [1. 1.]]\n",
      "Shape: (2, 2) Dtype: float32\n",
      "--------------------\n"
     ]
    }
   ],
   "source": [
    "empty_like_arr = np.empty_like(existing_arr)\n",
    "print(\"np.empty_like(existing_arr) (uninitialized):\\n\", empty_like_arr)\n",
    "print(\"Shape:\", empty_like_arr.shape, \"Dtype:\", empty_like_arr.dtype)\n",
    "print(\"-\" * 20)"
   ]
  },
  {
   "cell_type": "markdown",
   "id": "e12f1835-3d73-4a43-acf1-79251b9a009a",
   "metadata": {},
   "source": [
    "## 3. Random Number Generation (np.random module)"
   ]
  },
  {
   "cell_type": "code",
   "execution_count": 106,
   "id": "7f158de9-8170-41f9-bfc3-91f09c5cf58d",
   "metadata": {},
   "outputs": [],
   "source": [
    "# np.random.seed(): Makes random number generation predictable (reproducible)\n",
    "# Call this before generating random numbers if you need the same sequence again\n",
    "\n",
    "np.random.seed(42) # Use any integer as the seed"
   ]
  },
  {
   "cell_type": "markdown",
   "id": "8537bdcf-07c0-4a41-a56c-b6a3d8b1ba1b",
   "metadata": {},
   "source": [
    "#### np.random.rand()\n",
    "- np.random.rand(d0, d1, ..., dn): Random values in a given shape from a\n",
    "- uniform distribution over [0, 1)."
   ]
  },
  {
   "cell_type": "code",
   "execution_count": 114,
   "id": "7d1c78b3-402d-41ca-bf11-8731726c6bdf",
   "metadata": {},
   "outputs": [
    {
     "name": "stdout",
     "output_type": "stream",
     "text": [
      "np.random.rand(3, 2):\n",
      " [[0.42340148 0.39488152]\n",
      " [0.29348817 0.01407982]\n",
      " [0.1988424  0.71134195]]\n",
      "--------------------\n"
     ]
    }
   ],
   "source": [
    "rand_arr = np.random.rand(3, 2) # 3x2 array of random floats between 0 and 1\n",
    "print(\"np.random.rand(3, 2):\\n\", rand_arr)\n",
    "print(\"-\" * 20)"
   ]
  },
  {
   "cell_type": "markdown",
   "id": "99fce808-9cf0-4227-a7b9-37dcec345118",
   "metadata": {},
   "source": [
    "#### np.random.randn()\n",
    "- np.random.randn(d0, d1, ..., dn): Random values in a given shape from the\n",
    "- \"standard normal\" distribution (mean 0, variance 1)."
   ]
  },
  {
   "cell_type": "code",
   "execution_count": 116,
   "id": "3cbb8d46-731c-41b1-8b6a-dd6867ca20e4",
   "metadata": {},
   "outputs": [
    {
     "name": "stdout",
     "output_type": "stream",
     "text": [
      "np.random.randn(5):\n",
      " [-0.08111895  0.46779475  0.73612235 -0.77970188 -0.84389636]\n",
      "np.random.randn(2, 4):\n",
      " [[-0.15053386 -0.96555767  0.15048908 -0.11342125]\n",
      " [ 2.63352822 -1.02509089 -0.78204783  0.42394307]]\n",
      "--------------------\n"
     ]
    }
   ],
   "source": [
    "randn_arr = np.random.randn(5) # 1D array of 5 samples from standard normal\n",
    "print(\"np.random.randn(5):\\n\", randn_arr)\n",
    "\n",
    "randn_arr_2d = np.random.randn(2, 4) # 2x4 array\n",
    "print(\"np.random.randn(2, 4):\\n\", randn_arr_2d)\n",
    "print(\"-\" * 20)"
   ]
  },
  {
   "cell_type": "markdown",
   "id": "306eeb66-a240-444f-8744-7656a185e085",
   "metadata": {},
   "source": [
    "#### np.random.randint()\n",
    "- np.random.randint(low, high=None, size=None, dtype=int): Random integers.\n",
    "- If high is None, range is [0, low).\n",
    "- If high is specified, range is [low, high).\n",
    "- size specifies the output shape.\n"
   ]
  },
  {
   "cell_type": "code",
   "execution_count": 117,
   "id": "8805f35b-0a97-4447-91cd-1d60cb51477a",
   "metadata": {},
   "outputs": [
    {
     "name": "stdout",
     "output_type": "stream",
     "text": [
      "np.random.randint(10, size=5):\n",
      " [6 3 6 2 5]\n",
      "np.random.randint(50, 100, size=(2, 3)):\n",
      " [[77 51 91]\n",
      " [94 55 77]]\n",
      "--------------------\n"
     ]
    }
   ],
   "source": [
    "randint_arr1 = np.random.randint(10, size=5) # 5 random ints from [0, 10)\n",
    "print(\"np.random.randint(10, size=5):\\n\", randint_arr1)\n",
    "randint_arr2 = np.random.randint(50, 100, size=(2, 3)) # 2x3 array, ints from [50, 100)\n",
    "print(\"np.random.randint(50, 100, size=(2, 3)):\\n\", randint_arr2)\n",
    "print(\"-\" * 20)"
   ]
  },
  {
   "cell_type": "markdown",
   "id": "1070481e-509c-4690-81b5-7d224dd1fe5c",
   "metadata": {},
   "source": [
    "#### np.random.choice()\n",
    "- np.random.choice(a, size=None, replace=True, p=None): Generates a random sample"
   ]
  },
  {
   "cell_type": "code",
   "execution_count": 124,
   "id": "4cbee71e-6e43-46f4-b1ba-09ba5a0424ca",
   "metadata": {},
   "outputs": [
    {
     "name": "stdout",
     "output_type": "stream",
     "text": [
      "np.random.choice(elements, size=3):\n",
      " ['e' 'a' 'c']\n"
     ]
    }
   ],
   "source": [
    "# from a given 1-D array 'a'.\n",
    "elements = np.array(['a', 'b', 'c', 'd', 'e'])\n",
    "choices = np.random.choice(elements, size=3) # Sample 3 elements with replacement\n",
    "print(\"np.random.choice(elements, size=3):\\n\", choices)"
   ]
  },
  {
   "cell_type": "code",
   "execution_count": 128,
   "id": "67c803ce-be75-4f7d-9dad-2869b785bd7f",
   "metadata": {},
   "outputs": [
    {
     "name": "stdout",
     "output_type": "stream",
     "text": [
      "np.random.choice(elements, size=3, replace=False):\n",
      " ['e' 'd' 'a']\n"
     ]
    }
   ],
   "source": [
    "choices_no_replace = np.random.choice(elements, size=3, replace=False) # Sample without replacement\n",
    "print(\"np.random.choice(elements, size=3, replace=False):\\n\", choices_no_replace)"
   ]
  },
  {
   "cell_type": "code",
   "execution_count": 130,
   "id": "ace1fa19-61b7-4715-bb43-40ce54cca03d",
   "metadata": {},
   "outputs": [
    {
     "name": "stdout",
     "output_type": "stream",
     "text": [
      "np.random.choice with probabilities:\n",
      " ['e' 'c' 'c' 'd' 'c' 'd' 'c' 'c' 'c' 'c']\n",
      "--------------------\n"
     ]
    }
   ],
   "source": [
    "# Specifying probabilities 'p' for each element in 'a'\n",
    "probabilities = [0.1, 0.1, 0.5, 0.1, 0.2] # Probabilities must sum to 1\n",
    "choices_prob = np.random.choice(elements, size=10, p=probabilities)\n",
    "print(\"np.random.choice with probabilities:\\n\", choices_prob)\n",
    "print(\"-\" * 20)"
   ]
  },
  {
   "cell_type": "code",
   "execution_count": 131,
   "id": "151f257a-7092-4c3d-ad83-f3aea0061be7",
   "metadata": {},
   "outputs": [
    {
     "name": "stdout",
     "output_type": "stream",
     "text": [
      "np.random.normal(mu=0, sigma=0.1, size=5):\n",
      " [-0.09905363 -0.05662977  0.00996514 -0.05034757 -0.15506634]\n",
      "--------------------\n"
     ]
    }
   ],
   "source": [
    "# Other distributions are available, e.g., normal (Gaussian) with specified mean/std dev\n",
    "mu, sigma = 0, 0.1 # mean and standard deviation\n",
    "normal_samples = np.random.normal(mu, sigma, size=5)\n",
    "print(f\"np.random.normal(mu={mu}, sigma={sigma}, size=5):\\n\", normal_samples)\n",
    "print(\"-\" * 20)"
   ]
  },
  {
   "cell_type": "code",
   "execution_count": 135,
   "id": "0106e414-f3d5-4bac-9b12-c7e2e2245572",
   "metadata": {},
   "outputs": [
    {
     "name": "stdout",
     "output_type": "stream",
     "text": [
      "First rand call after resetting seed(42):\n",
      " [[0.37454012 0.95071431]\n",
      " [0.73199394 0.59865848]\n",
      " [0.15601864 0.15599452]]\n",
      "Second rand call after resetting seed(42):\n",
      " [[0.37454012 0.95071431]\n",
      " [0.73199394 0.59865848]\n",
      " [0.15601864 0.15599452]]\n"
     ]
    }
   ],
   "source": [
    "# Resetting the seed will reproduce the *entire sequence* from that point\n",
    "np.random.seed(42)\n",
    "print(\"First rand call after resetting seed(42):\\n\", np.random.rand(3, 2))\n",
    "np.random.seed(42)\n",
    "print(\"Second rand call after resetting seed(42):\\n\", np.random.rand(3, 2)) # Same as first"
   ]
  },
  {
   "cell_type": "code",
   "execution_count": null,
   "id": "92f6ef8b-f461-49ac-9258-6c00ec24496e",
   "metadata": {},
   "outputs": [],
   "source": []
  }
 ],
 "metadata": {
  "kernelspec": {
   "display_name": "Python 3 (ipykernel)",
   "language": "python",
   "name": "python3"
  },
  "language_info": {
   "codemirror_mode": {
    "name": "ipython",
    "version": 3
   },
   "file_extension": ".py",
   "mimetype": "text/x-python",
   "name": "python",
   "nbconvert_exporter": "python",
   "pygments_lexer": "ipython3",
   "version": "3.10.11"
  }
 },
 "nbformat": 4,
 "nbformat_minor": 5
}
