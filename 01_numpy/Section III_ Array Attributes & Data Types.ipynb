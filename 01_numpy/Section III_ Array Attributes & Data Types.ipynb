{
 "cells": [
  {
   "cell_type": "code",
   "execution_count": 1,
   "id": "77b90c2d-edb8-489a-a024-0589844bdd15",
   "metadata": {},
   "outputs": [],
   "source": [
    "# Import the NumPy library\n",
    "import numpy as np"
   ]
  },
  {
   "cell_type": "code",
   "execution_count": 2,
   "id": "872cd8ca-213d-4c91-9d2a-b8e6ebbb2e7e",
   "metadata": {},
   "outputs": [],
   "source": [
    "# --- Create Sample Arrays ---"
   ]
  },
  {
   "cell_type": "code",
   "execution_count": 14,
   "id": "55afbd60-89f9-4aab-9c8a-85072db5f1ec",
   "metadata": {},
   "outputs": [
    {
     "name": "stdout",
     "output_type": "stream",
     "text": [
      "--- Sample Arrays ---\n",
      "arr1d:\n",
      " [0 1 2 3 4 5]\n",
      "\n",
      "arr2d:\n",
      " [[0.  0.2 0.4]\n",
      " [0.6 0.8 1. ]]\n",
      "\n",
      "arr3d:\n",
      " [[[False  True]\n",
      "  [False  True]\n",
      "  [ True  True]]\n",
      "\n",
      " [[False  True]\n",
      "  [False  True]\n",
      "  [ True False]]]\n",
      "------------------------------\n"
     ]
    }
   ],
   "source": [
    "# 1D array of integers\n",
    "arr1d = np.arange(6)\n",
    "\n",
    "# 2D array of floats\n",
    "arr2d = np.linspace(0, 1, 6).reshape(2, 3) # Reshape into 2 rows, 3 columns\n",
    "\n",
    "# 3D array with a specific data type (boolean)\n",
    "arr3d = np.random.rand(2, 3, 2) > 0.5 # 2 matrices, each 3x2, with True/False\n",
    "\n",
    "print(\"--- Sample Arrays ---\")\n",
    "print(\"arr1d:\\n\", arr1d)\n",
    "print(\"\\narr2d:\\n\", arr2d)\n",
    "print(\"\\narr3d:\\n\", arr3d)\n",
    "print(\"-\" * 30)"
   ]
  },
  {
   "cell_type": "markdown",
   "id": "8f421e4a-59d1-487e-ac3d-e9b8588450f4",
   "metadata": {},
   "source": [
    "## 1. Key Array Attributes"
   ]
  },
  {
   "cell_type": "code",
   "execution_count": 15,
   "id": "19ac4c69-8775-463a-b718-3dac63094b38",
   "metadata": {},
   "outputs": [
    {
     "name": "stdout",
     "output_type": "stream",
     "text": [
      "--- Attributes of arr2d ---\n"
     ]
    }
   ],
   "source": [
    "print(\"--- Attributes of arr2d ---\")"
   ]
  },
  {
   "cell_type": "code",
   "execution_count": 22,
   "id": "11bca49f-a2eb-4754-8fdb-0e2827605b53",
   "metadata": {},
   "outputs": [
    {
     "name": "stdout",
     "output_type": "stream",
     "text": [
      "Number of dimensions (ndim): 2\n",
      "Shape (shape): (2, 3)\n",
      "Total number of elements (size): 6\n",
      "Data type (dtype): float64\n",
      "Size of each element in bytes (itemsize): 8\n",
      "Total bytes consumed (nbytes): 48\n",
      "------------------------------\n"
     ]
    }
   ],
   "source": [
    "# ndarray.ndim: Number of array dimensions (axes)\n",
    "print(f\"Number of dimensions (ndim): {arr2d.ndim}\") # Output: 2\n",
    "\n",
    "# ndarray.shape: Tuple of array dimensions (rows, columns, etc.)\n",
    "print(f\"Shape (shape): {arr2d.shape}\") # Output: (2, 3)\n",
    "\n",
    "# ndarray.size: Total number of elements in the array\n",
    "print(f\"Total number of elements (size): {arr2d.size}\") # Output: 6 (2 * 3)\n",
    "\n",
    "# ndarray.dtype: Data type object describing the elements\n",
    "print(f\"Data type (dtype): {arr2d.dtype}\") # Output: float64\n",
    "\n",
    "# ndarray.itemsize: Size in bytes of each array element\n",
    "print(f\"Size of each element in bytes (itemsize): {arr2d.itemsize}\") # Output: 8 (for float64)\n",
    "\n",
    "# ndarray.nbytes: Total bytes consumed by the elements of the array (size * itemsize)\n",
    "print(f\"Total bytes consumed (nbytes): {arr2d.nbytes}\") # Output: 48 (6 * 8)\n",
    "print(\"-\" * 30)"
   ]
  },
  {
   "cell_type": "code",
   "execution_count": 23,
   "id": "06f8eb11-32e6-4e1a-b17c-8f03d32969ec",
   "metadata": {},
   "outputs": [
    {
     "name": "stdout",
     "output_type": "stream",
     "text": [
      "--- Attributes of arr3d ---\n",
      "ndim: 3\n",
      "shape: (2, 3, 2)\n",
      "size: 12\n",
      "dtype: bool\n",
      "itemsize: 1\n",
      "nbytes: 12\n",
      "------------------------------\n"
     ]
    }
   ],
   "source": [
    "print(\"--- Attributes of arr3d ---\")\n",
    "print(f\"ndim: {arr3d.ndim}\")       # Output: 3\n",
    "print(f\"shape: {arr3d.shape}\")     # Output: (2, 3, 2)\n",
    "print(f\"size: {arr3d.size}\")       # Output: 12 (2 * 3 * 2)\n",
    "print(f\"dtype: {arr3d.dtype}\")     # Output: bool\n",
    "print(f\"itemsize: {arr3d.itemsize}\") # Output: 1 (for bool)\n",
    "print(f\"nbytes: {arr3d.nbytes}\")   # Output: 12 (12 * 1)\n",
    "print(\"-\" * 30)"
   ]
  },
  {
   "cell_type": "markdown",
   "id": "e7ccaaf0-ee34-4ba1-b065-68cfa621387a",
   "metadata": {},
   "source": [
    "## 2. Common Data Types (dtype)\n",
    "\n",
    "- NumPy supports a wide range of numerical types. Some common ones:\n",
    "- np.int8, np.int16, np.int32, np.int64: Signed integers of different sizes\n",
    "- np.uint8, np.uint16, np.uint32, np.uint64: Unsigned integers\n",
    "- np.float16, np.float32, np.float64: Floating-point numbers (half, single, double precision)\n",
    "- np.complex64, np.complex128: Complex numbers\n",
    "- np.bool_: Boolean type (True/False)\n",
    "- np.object_: For Python objects (use sparingly, less efficient)\n",
    "- np.string_: Fixed-length byte strings (use 'S' code, e.g., 'S10' for 10 bytes)\n",
    "- np.unicode_: Fixed-length Unicode strings (use 'U' code, e.g., '<U5' for 5 characters)"
   ]
  },
  {
   "cell_type": "code",
   "execution_count": 25,
   "id": "3b90a325-2389-4e30-8cc2-6162b9c55fad",
   "metadata": {},
   "outputs": [
    {
     "name": "stdout",
     "output_type": "stream",
     "text": [
      "Integer array (int16):\n",
      " [1 2 3]\n",
      "dtype: int16\n"
     ]
    }
   ],
   "source": [
    "# You can create arrays with specific dtypes:\n",
    "int_arr = np.array([1, 2.5, 3], dtype=np.int16)\n",
    "print(\"Integer array (int16):\\n\", int_arr)\n",
    "print(\"dtype:\", int_arr.dtype)"
   ]
  },
  {
   "cell_type": "code",
   "execution_count": 26,
   "id": "c10399ad-8ac2-493b-bea3-1cd950dca8c9",
   "metadata": {},
   "outputs": [
    {
     "name": "stdout",
     "output_type": "stream",
     "text": [
      "\n",
      "Float array (float32):\n",
      " [1.  2.5 3.1]\n",
      "dtype: float32\n"
     ]
    }
   ],
   "source": [
    "float_arr = np.array([1.0, 2.5, 3.1], dtype=np.float32)\n",
    "print(\"\\nFloat array (float32):\\n\", float_arr)\n",
    "print(\"dtype:\", float_arr.dtype)"
   ]
  },
  {
   "cell_type": "code",
   "execution_count": 27,
   "id": "11b66a0b-d7b8-49aa-b974-b5201521a6f2",
   "metadata": {},
   "outputs": [
    {
     "name": "stdout",
     "output_type": "stream",
     "text": [
      "\n",
      "Boolean array from numbers:\n",
      " [False  True  True False]\n",
      "dtype: bool\n",
      "------------------------------\n"
     ]
    }
   ],
   "source": [
    "bool_arr = np.array([0, 1, -1, 0.0], dtype=np.bool_) # Non-zero converts to True, zero to False\n",
    "print(\"\\nBoolean array from numbers:\\n\", bool_arr)\n",
    "print(\"dtype:\", bool_arr.dtype)\n",
    "print(\"-\" * 30)"
   ]
  },
  {
   "cell_type": "markdown",
   "id": "967ff5b3-13f3-4c1a-b681-6ce851a2ef75",
   "metadata": {},
   "source": [
    "## 3. Type Casting (astype method)\n",
    "- Use ndarray.astype() to create a *new* array with a different dtype.\n",
    "- The original array remains unchanged."
   ]
  },
  {
   "cell_type": "code",
   "execution_count": 28,
   "id": "c02a2f44-4942-4a5d-b6da-c5cb43d548c3",
   "metadata": {},
   "outputs": [
    {
     "name": "stdout",
     "output_type": "stream",
     "text": [
      "Original int array (arr1d):\n",
      " [0 1 2 3 4 5]\n",
      "dtype: int64 \n",
      "\n",
      "\n",
      "Casted to float64:\n",
      " [0. 1. 2. 3. 4. 5.]\n",
      "dtype: float64\n",
      "--------------------\n"
     ]
    }
   ],
   "source": [
    "arr1d = np.arange(6)\n",
    "float_from_int = arr1d.astype(np.float64)\n",
    "\n",
    "print(\"Original int array (arr1d):\\n\", arr1d)\n",
    "print(\"dtype:\", arr1d.dtype, \"\\n\")\n",
    "\n",
    "print(\"\\nCasted to float64:\\n\", float_from_int)\n",
    "print(\"dtype:\", float_from_int.dtype)\n",
    "print(\"-\" * 20)"
   ]
  },
  {
   "cell_type": "code",
   "execution_count": 29,
   "id": "0608aecb-1425-4b5b-b0b4-b3a5eb3f1a9b",
   "metadata": {},
   "outputs": [
    {
     "name": "stdout",
     "output_type": "stream",
     "text": [
      "Original float array (arr2d):\n",
      " [[0.  0.2 0.4]\n",
      " [0.6 0.8 1. ]]\n",
      "dtype: float64 \n",
      "\n",
      "\n",
      "Casted to int32 (truncates decimals):\n",
      " [[0 0 0]\n",
      " [0 0 1]]\n",
      "dtype: int32\n",
      "--------------------\n"
     ]
    }
   ],
   "source": [
    "int_from_float = arr2d.astype(np.int32) # Decimals are truncated (not rounded)\n",
    "print(\"Original float array (arr2d):\\n\", arr2d)\n",
    "print(\"dtype:\", arr2d.dtype, \"\\n\")\n",
    "\n",
    "print(\"\\nCasted to int32 (truncates decimals):\\n\", int_from_float)\n",
    "print(\"dtype:\", int_from_float.dtype)\n",
    "print(\"-\" * 20)"
   ]
  },
  {
   "cell_type": "code",
   "execution_count": 30,
   "id": "8d38812f-f237-4bac-bd18-af442bf5daf8",
   "metadata": {},
   "outputs": [
    {
     "name": "stdout",
     "output_type": "stream",
     "text": [
      "Original int array (arr1d):\n",
      " [0 1 2 3 4 5]\n",
      "dtype: int64 \n",
      "\n",
      "\n",
      "Casted to bool:\n",
      " [False  True  True  True  True  True]\n",
      "dtype: bool\n",
      "--------------------\n"
     ]
    }
   ],
   "source": [
    "bool_from_int = arr1d.astype(np.bool_) # 0 becomes False, non-zero becomes True\n",
    "print(\"Original int array (arr1d):\\n\", arr1d)\n",
    "print(\"dtype:\", arr1d.dtype, \"\\n\")\n",
    "\n",
    "print(\"\\nCasted to bool:\\n\", bool_from_int)\n",
    "print(\"dtype:\", bool_from_int.dtype)\n",
    "print(\"-\" * 20)"
   ]
  },
  {
   "cell_type": "code",
   "execution_count": 31,
   "id": "5382235e-c7ee-46ec-8d19-9416f6317729",
   "metadata": {},
   "outputs": [
    {
     "name": "stdout",
     "output_type": "stream",
     "text": [
      "Original float array (arr2d):\n",
      " [[0.  0.2 0.4]\n",
      " [0.6 0.8 1. ]]\n",
      "dtype: float64 \n",
      "\n",
      "\n",
      "Casted to string:\n",
      " [['0.0' '0.2' '0.4']\n",
      " ['0.6000000000000001' '0.8' '1.0']]\n",
      "dtype: <U32\n",
      "--------------------\n"
     ]
    }
   ],
   "source": [
    "string_from_float = arr2d.astype(str) # Or use np.string_ or np.unicode_\n",
    "print(\"Original float array (arr2d):\\n\", arr2d)\n",
    "print(\"dtype:\", arr2d.dtype, \"\\n\")\n",
    "\n",
    "print(\"\\nCasted to string:\\n\", string_from_float)\n",
    "print(\"dtype:\", string_from_float.dtype) # Often '<U32' or similar (unicode string)\n",
    "print(\"-\" * 20)"
   ]
  },
  {
   "cell_type": "markdown",
   "id": "4092a21e-1fb4-4751-815d-2ec435af776f",
   "metadata": {},
   "source": [
    "##### Be careful when casting:\n",
    "- Float to Int: Truncation occurs.\n",
    "- Casting larger types (e.g., float64) to smaller types (e.g., float16 or int8)\n",
    "- can lead to loss of precision or overflow/underflow if values are outside the smaller type's range."
   ]
  },
  {
   "cell_type": "code",
   "execution_count": 33,
   "id": "c1fb0a5f-6a6f-452e-b838-101021d1bbea",
   "metadata": {},
   "outputs": [
    {
     "name": "stdout",
     "output_type": "stream",
     "text": [
      "Large float array (float64):\n",
      " [1.e+10 2.e-10] \n",
      "\n",
      "Casted to float16 (potential precision loss):\n",
      " [inf  0.]\n"
     ]
    },
    {
     "name": "stderr",
     "output_type": "stream",
     "text": [
      "C:\\Users\\ranji\\AppData\\Local\\Temp\\ipykernel_14448\\4157310201.py:4: RuntimeWarning: overflow encountered in cast\n",
      "  small_float = large_float.astype(np.float16)\n"
     ]
    }
   ],
   "source": [
    "large_float = np.array([1e10, 2e-10], dtype=np.float64)\n",
    "print(\"Large float array (float64):\\n\", large_float, \"\\n\")\n",
    "\n",
    "small_float = large_float.astype(np.float16)\n",
    "print(\"Casted to float16 (potential precision loss):\\n\", small_float)"
   ]
  },
  {
   "cell_type": "code",
   "execution_count": 34,
   "id": "3538149d-c17d-491f-b56a-730fb252d1d8",
   "metadata": {},
   "outputs": [],
   "source": [
    "# Invalid casting can raise errors (e.g., string 'abc' to int)\n",
    "# numeric_string = np.array(['1', '2', '3'])\n",
    "# int_from_numeric_string = numeric_string.astype(np.int32) # This works\n",
    "# print(\"\\nInt from numeric string:\\n\", int_from_numeric_string)\n",
    "\n",
    "# non_numeric_string = np.array(['1', 'two', '3'])\n",
    "# try:\n",
    "#     int_from_non_numeric_string = non_numeric_string.astype(np.int32)\n",
    "# except ValueError as e:\n",
    "#     print(f\"\\nError casting non-numeric string to int: {e}\") # This will raise ValueError\n"
   ]
  },
  {
   "cell_type": "code",
   "execution_count": null,
   "id": "276efe17-e980-416d-ab84-f40cedf0e560",
   "metadata": {},
   "outputs": [],
   "source": []
  }
 ],
 "metadata": {
  "kernelspec": {
   "display_name": "Python 3 (ipykernel)",
   "language": "python",
   "name": "python3"
  },
  "language_info": {
   "codemirror_mode": {
    "name": "ipython",
    "version": 3
   },
   "file_extension": ".py",
   "mimetype": "text/x-python",
   "name": "python",
   "nbconvert_exporter": "python",
   "pygments_lexer": "ipython3",
   "version": "3.10.11"
  }
 },
 "nbformat": 4,
 "nbformat_minor": 5
}
