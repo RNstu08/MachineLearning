{
 "cells": [
  {
   "cell_type": "code",
   "execution_count": 1,
   "id": "75489377-1a33-465a-a237-e5e8d635e702",
   "metadata": {},
   "outputs": [],
   "source": [
    "import numpy as np"
   ]
  },
  {
   "cell_type": "code",
   "execution_count": 11,
   "id": "c80ca761-6596-4447-b4f0-5e7f2660b848",
   "metadata": {},
   "outputs": [],
   "source": [
    "arr1 = np.array([1, 2,3, 4])\n",
    "arr2 = np.array([10, 20, 30, 40])\n",
    "\n",
    "arr_2d_a = np.array([[1, 2], [3, 4]])\n",
    "arr_2d_b = np.array([[5, 6], [7, 8]])\n",
    "\n",
    "arr_mixed = np.array([-2, -1, 0, 1, 2, 3])\n",
    "\n",
    "arr_bool1 = np.array([True, False, True, False])\n",
    "arr_bool2 = np.array([True, True, False, False])\n",
    "\n",
    "arr_large = np.arange(1, 10)\n",
    "arr_large_reshape = np.arange(1, 10).reshape(3, 3)"
   ]
  },
  {
   "cell_type": "code",
   "execution_count": 14,
   "id": "02799d87-d98c-40cd-97b8-fcd674632497",
   "metadata": {},
   "outputs": [
    {
     "name": "stdout",
     "output_type": "stream",
     "text": [
      "arr1: [1 2 3 4]\n",
      "\n",
      "arr2: [10 20 30 40]\n",
      "\n",
      "arr_2d_a:\n",
      "[[1 2]\n",
      " [3 4]]\n",
      "\n",
      "arr_2d_b:\n",
      "[[5 6]\n",
      " [7 8]]\n",
      "\n",
      "arr_mixed: [-2 -1  0  1  2  3]\n",
      "\n",
      "arr_bool1: [ True False  True False]\n",
      "\n",
      "arr_bool2: [ True  True False False]\n",
      "\n",
      "arr_large:\n",
      "[1 2 3 4 5 6 7 8 9]\n",
      "\n",
      "arr_large:\n",
      "[[1 2 3]\n",
      " [4 5 6]\n",
      " [7 8 9]]\n",
      "\n"
     ]
    }
   ],
   "source": [
    "print(f\"arr1: {arr1}\\n\")\n",
    "print(f\"arr2: {arr2}\\n\")\n",
    "print(f\"arr_2d_a:\\n{arr_2d_a}\\n\")\n",
    "print(f\"arr_2d_b:\\n{arr_2d_b}\\n\")\n",
    "print(f\"arr_mixed: {arr_mixed}\\n\")\n",
    "print(f\"arr_bool1: {arr_bool1}\\n\")\n",
    "print(f\"arr_bool2: {arr_bool2}\\n\")\n",
    "print(f\"arr_large:\\n{arr_large}\\n\")\n",
    "print(f\"arr_large:\\n{arr_large_reshape}\\n\")"
   ]
  },
  {
   "cell_type": "markdown",
   "id": "df8282d0-5e0a-4116-9eed-49c96b30c26e",
   "metadata": {},
   "source": [
    "## 1. Vectorization\n",
    "- NumPy operations are vectorized, meaning they operate on entire arrays\n",
    "- element by element without needing explicit Python loops. This is much faster."
   ]
  },
  {
   "cell_type": "code",
   "execution_count": 15,
   "id": "cf517d08-5654-4306-abd5-adc790d8e8ab",
   "metadata": {},
   "outputs": [],
   "source": [
    "# Instead of:\n",
    "# result = []\n",
    "# for i in range(len(arr1)):\n",
    "#     result.append(arr1[i] + arr2[i])\n",
    "# result = np.array(result)"
   ]
  },
  {
   "cell_type": "code",
   "execution_count": 16,
   "id": "7971cf96-96b8-441f-b446-56d0191ac063",
   "metadata": {},
   "outputs": [
    {
     "name": "stdout",
     "output_type": "stream",
     "text": [
      "Result: [11 22 33 44]\n"
     ]
    }
   ],
   "source": [
    "# We can do:\n",
    "result_vectorized = arr1 + arr2 # Simple, concise, and fast!\n",
    "\n",
    "print(f\"Result: {result_vectorized}\") # Output: [11 22 33 44]"
   ]
  },
  {
   "cell_type": "markdown",
   "id": "21e3e2ff-9fcd-4e7b-b18d-a25b022e5efd",
   "metadata": {},
   "source": [
    "#### 2. Element-wise Arithmetic Operations\n",
    "- Standard operators (+, -, *, /, //, %, **) work element-wise"
   ]
  },
  {
   "cell_type": "code",
   "execution_count": 17,
   "id": "84435999-b8ce-458a-9712-686f53f25281",
   "metadata": {},
   "outputs": [
    {
     "name": "stdout",
     "output_type": "stream",
     "text": [
      "--- Element-wise Arithmetic ---\n",
      "arr1 + arr2 = [11 22 33 44]\n",
      "arr1 - arr2 = [ -9 -18 -27 -36]\n",
      "arr1 * arr2 = [ 10  40  90 160]\n",
      "arr2 / arr1 = [10. 10. 10. 10.]\n",
      "arr2 // arr1 = [10 10 10 10]\n",
      "arr2 % arr1 = [0 0 0 0]\n",
      "arr1 ** 2 = [ 1  4  9 16]\n"
     ]
    }
   ],
   "source": [
    "print(\"--- Element-wise Arithmetic ---\")\n",
    "print(f\"arr1 + arr2 = {arr1 + arr2}\")       # Addition\n",
    "print(f\"arr1 - arr2 = {arr1 - arr2}\")       # Subtraction\n",
    "print(f\"arr1 * arr2 = {arr1 * arr2}\")       # Multiplication\n",
    "print(f\"arr2 / arr1 = {arr2 / arr1}\")       # Division (float result)\n",
    "print(f\"arr2 // arr1 = {arr2 // arr1}\")      # Floor Division (integer result)\n",
    "print(f\"arr2 % arr1 = {arr2 % arr1}\")       # Modulus (remainder)\n",
    "print(f\"arr1 ** 2 = {arr1 ** 2}\")           # Exponentiation"
   ]
  },
  {
   "cell_type": "code",
   "execution_count": 18,
   "id": "7168c301-48e0-46b8-a8e7-6921b9b9ac1a",
   "metadata": {},
   "outputs": [
    {
     "name": "stdout",
     "output_type": "stream",
     "text": [
      "\n",
      "arr_2d_a * arr_2d_b:\n",
      "[[ 5 12]\n",
      " [21 32]]\n"
     ]
    }
   ],
   "source": [
    "# Works on multi-dimensional arrays too (if shapes are compatible)\n",
    "print(f\"\\narr_2d_a * arr_2d_b:\\n{arr_2d_a * arr_2d_b}\")"
   ]
  },
  {
   "cell_type": "code",
   "execution_count": 19,
   "id": "efda93c7-66a8-470b-9c34-af0e4b17b7be",
   "metadata": {},
   "outputs": [
    {
     "name": "stdout",
     "output_type": "stream",
     "text": [
      "\n",
      "arr1 + 100 = [101 102 103 104]\n",
      "arr_2d_a * 3 = \n",
      "[[ 3  6]\n",
      " [ 9 12]]\n"
     ]
    }
   ],
   "source": [
    "# Operations with scalars are broadcast (discussed later)\n",
    "print(f\"\\narr1 + 100 = {arr1 + 100}\") # Output: [101 102 103 104]\n",
    "print(f\"arr_2d_a * 3 = \\n{arr_2d_a * 3}\")"
   ]
  },
  {
   "cell_type": "markdown",
   "id": "65b86304-8bdd-4b8a-9524-43ac0c149107",
   "metadata": {},
   "source": [
    "#### 3. Element-wise Comparison Operations\n",
    "- Return boolean arrays"
   ]
  },
  {
   "cell_type": "code",
   "execution_count": 20,
   "id": "1ae0c1be-e9d6-4b28-b85c-fd368cca5e44",
   "metadata": {},
   "outputs": [
    {
     "name": "stdout",
     "output_type": "stream",
     "text": [
      "--- Element-wise Comparisons ---\n",
      "arr1 > 2: [False False  True  True]\n",
      "arr2 <= 30: [ True  True  True False]\n",
      "arr1 == arr1: [ True  True  True  True]\n",
      "arr1 != arr2: [ True  True  True  True]\n"
     ]
    }
   ],
   "source": [
    "print(\"--- Element-wise Comparisons ---\")\n",
    "print(f\"arr1 > 2: {arr1 > 2}\")           # Greater than\n",
    "print(f\"arr2 <= 30: {arr2 <= 30}\")       # Less than or equal to\n",
    "print(f\"arr1 == arr1: {arr1 == arr1}\")   # Equal to\n",
    "print(f\"arr1 != arr2: {arr1 != arr2}\")   # Not equal to"
   ]
  },
  {
   "cell_type": "code",
   "execution_count": 21,
   "id": "842e99d7-5365-4926-b77d-f2bb6848bb71",
   "metadata": {},
   "outputs": [
    {
     "name": "stdout",
     "output_type": "stream",
     "text": [
      "arr1 == np.array([1, 99, 3, 99]): [ True False  True False]\n",
      "------------------------------\n"
     ]
    }
   ],
   "source": [
    "# Comparing arrays element-wise\n",
    "print(f\"arr1 == np.array([1, 99, 3, 99]): {arr1 == np.array([1, 99, 3, 99])}\")\n",
    "print(\"-\" * 30)"
   ]
  },
  {
   "cell_type": "markdown",
   "id": "8358f375-f201-430a-8427-3218ceaf1335",
   "metadata": {},
   "source": [
    "#### 4. Logical Operations\n",
    "- Operate on boolean arrays or arrays evaluated in boolean context"
   ]
  },
  {
   "cell_type": "code",
   "execution_count": 24,
   "id": "2b719762-6f16-4b9e-85b9-3ed8beac13b0",
   "metadata": {},
   "outputs": [
    {
     "name": "stdout",
     "output_type": "stream",
     "text": [
      "--- Logical Operations ---\n",
      "arr_bool1: [ True False  True False]\n",
      "arr_bool2: [ True  True False False]\n",
      "\n",
      "np.logical_and(arr_bool1, arr_bool2): [ True False False False]\n",
      "np.logical_or(arr_bool1, arr_bool2): [ True  True  True False]\n",
      "np.logical_not(arr_bool1): [False  True False  True]\n"
     ]
    }
   ],
   "source": [
    "print(\"--- Logical Operations ---\")\n",
    "# Use np.logical_and, np.logical_or, np.logical_not\n",
    "# (Python's 'and', 'or', 'not' work on single boolean values, not arrays element-wise)\n",
    "print(f\"arr_bool1: {arr_bool1}\")\n",
    "print(f\"arr_bool2: {arr_bool2}\\n\")\n",
    "\n",
    "print(f\"np.logical_and(arr_bool1, arr_bool2): {np.logical_and(arr_bool1, arr_bool2)}\")\n",
    "print(f\"np.logical_or(arr_bool1, arr_bool2): {np.logical_or(arr_bool1, arr_bool2)}\")\n",
    "print(f\"np.logical_not(arr_bool1): {np.logical_not(arr_bool1)}\")"
   ]
  },
  {
   "cell_type": "markdown",
   "id": "c9f4ea3c-2428-48d3-bb25-57dbb6b1959a",
   "metadata": {},
   "source": [
    "#### 5. Universal Functions (ufuncs)\n",
    "- Functions that operate element-wise on ndarrays.\n",
    "- Many standard math functions have ufunc equivalents."
   ]
  },
  {
   "cell_type": "code",
   "execution_count": 25,
   "id": "283b45aa-82f3-4035-9179-19e6c8f27e3f",
   "metadata": {},
   "outputs": [
    {
     "name": "stdout",
     "output_type": "stream",
     "text": [
      "np.add(arr1, arr2): [11 22 33 44]\n",
      "np.subtract(arr2, arr1): [ 9 18 27 36]\n",
      "np.multiply(arr1, 10): [10 20 30 40]\n",
      "np.divide(arr2, arr1): [10. 10. 10. 10.]\n",
      "np.sqrt(arr1): [1.         1.41421356 1.73205081 2.        ]\n",
      "np.power(arr1, 3): [ 1  8 27 64]\n",
      "np.abs(arr_mixed): [2 1 0 1 2 3]\n"
     ]
    }
   ],
   "source": [
    "# Arithmetic ufuncs (often equivalent to operators)\n",
    "print(f\"np.add(arr1, arr2): {np.add(arr1, arr2)}\")\n",
    "print(f\"np.subtract(arr2, arr1): {np.subtract(arr2, arr1)}\")\n",
    "print(f\"np.multiply(arr1, 10): {np.multiply(arr1, 10)}\")\n",
    "print(f\"np.divide(arr2, arr1): {np.divide(arr2, arr1)}\")\n",
    "print(f\"np.sqrt(arr1): {np.sqrt(arr1)}\") # Square root\n",
    "print(f\"np.power(arr1, 3): {np.power(arr1, 3)}\") # Exponentiation\n",
    "print(f\"np.abs(arr_mixed): {np.abs(arr_mixed)}\") # Absolute value"
   ]
  },
  {
   "cell_type": "code",
   "execution_count": 26,
   "id": "eadbf968-e0bf-476a-9a15-c552e2589b95",
   "metadata": {},
   "outputs": [
    {
     "name": "stdout",
     "output_type": "stream",
     "text": [
      "\n",
      "Angles (radians): [0.         0.78539816 1.57079633 2.35619449 3.14159265]\n",
      "np.sin(angles): [0.00000000e+00 7.07106781e-01 1.00000000e+00 7.07106781e-01\n",
      " 1.22464680e-16]\n",
      "np.cos(angles): [ 1.00000000e+00  7.07106781e-01  6.12323400e-17 -7.07106781e-01\n",
      " -1.00000000e+00]\n",
      "np.tan(angles): [ 0.00000000e+00  1.00000000e+00  1.63312394e+16 -1.00000000e+00\n",
      " -1.22464680e-16]\n",
      "\n",
      "np.exp(arr1): [ 2.71828183  7.3890561  20.08553692 54.59815003]\n",
      "np.log(arr1): [0.         0.69314718 1.09861229 1.38629436]\n",
      "np.log10(arr2): [1.         1.30103    1.47712125 1.60205999]\n",
      "np.log2(arr1): [0.        1.        1.5849625 2.       ]\n"
     ]
    }
   ],
   "source": [
    "# Trigonometric functions (expect radians)\n",
    "angles = np.linspace(0, np.pi, 5) # 0, pi/4, pi/2, 3pi/4, pi\n",
    "print(f\"\\nAngles (radians): {angles}\")\n",
    "print(f\"np.sin(angles): {np.sin(angles)}\")\n",
    "print(f\"np.cos(angles): {np.cos(angles)}\")\n",
    "print(f\"np.tan(angles): {np.tan(angles)}\")\n",
    "\n",
    "# Exponential and Logarithmic\n",
    "print(f\"\\nnp.exp(arr1): {np.exp(arr1)}\") # e^x\n",
    "print(f\"np.log(arr1): {np.log(arr1)}\") # Natural log (ln)\n",
    "print(f\"np.log10(arr2): {np.log10(arr2)}\") # Base-10 log\n",
    "print(f\"np.log2(arr1): {np.log2(arr1)}\") # Base-2 log"
   ]
  },
  {
   "cell_type": "code",
   "execution_count": 27,
   "id": "1f42f2a7-6446-4b65-8f90-6e516574b182",
   "metadata": {},
   "outputs": [
    {
     "name": "stdout",
     "output_type": "stream",
     "text": [
      "\n",
      "Float array: [ 1.2  2.7  3.5  4.1 -1.6]\n",
      "np.round(float_arr): [ 1.  3.  4.  4. -2.]\n",
      "np.floor(float_arr): [ 1.  2.  3.  4. -2.]\n",
      "np.ceil(float_arr): [ 2.  3.  4.  5. -1.]\n",
      "np.trunc(float_arr): [ 1.  2.  3.  4. -1.]\n",
      "------------------------------\n"
     ]
    }
   ],
   "source": [
    "# Rounding\n",
    "float_arr = np.array([1.2, 2.7, 3.5, 4.1, -1.6])\n",
    "print(f\"\\nFloat array: {float_arr}\")\n",
    "print(f\"np.round(float_arr): {np.round(float_arr)}\") # Round to nearest int (0.5 rounds to even)\n",
    "print(f\"np.floor(float_arr): {np.floor(float_arr)}\") # Round down\n",
    "print(f\"np.ceil(float_arr): {np.ceil(float_arr)}\") # Round up\n",
    "print(f\"np.trunc(float_arr): {np.trunc(float_arr)}\") # Truncate towards zero\n",
    "\n",
    "# More ufuncs exist: np.isnan, np.isinf, np.sign, np.maximum, np.minimum, etc.\n",
    "print(\"-\" * 30)\n"
   ]
  },
  {
   "cell_type": "markdown",
   "id": "0c495ee6-25fd-46f7-8b35-e300187bf83e",
   "metadata": {},
   "source": [
    "#### 6. Aggregation Functions\n",
    "- Functions that perform a computation on an array and return a single value (or fewer dimensions)."
   ]
  },
  {
   "cell_type": "code",
   "execution_count": 29,
   "id": "c5ed5fa9-63bc-48a4-ae34-3845c26b527d",
   "metadata": {},
   "outputs": [
    {
     "name": "stdout",
     "output_type": "stream",
     "text": [
      "--- Aggregation Functions ---\n",
      "arr_large:\n",
      "[1 2 3 4 5 6 7 8 9]\n"
     ]
    }
   ],
   "source": [
    "print(\"--- Aggregation Functions ---\")\n",
    "print(f\"arr_large:\\n{arr_large}\")"
   ]
  },
  {
   "cell_type": "code",
   "execution_count": 30,
   "id": "89ace294-873e-456b-b3c2-59a8bdb515f0",
   "metadata": {},
   "outputs": [
    {
     "name": "stdout",
     "output_type": "stream",
     "text": [
      "np.sum(arr_large): 45\n",
      "arr_large.sum(): 45\n"
     ]
    }
   ],
   "source": [
    "# Basic aggregations\n",
    "print(f\"np.sum(arr_large): {np.sum(arr_large)}\") # Sum of all elements\n",
    "print(f\"arr_large.sum(): {arr_large.sum()}\") # Can also call as a method"
   ]
  },
  {
   "cell_type": "code",
   "execution_count": 31,
   "id": "d156b100-1a74-4437-9a56-06c39750cc54",
   "metadata": {},
   "outputs": [
    {
     "name": "stdout",
     "output_type": "stream",
     "text": [
      "np.mean(arr_large): 5.0\n",
      "arr_large.mean(): 5.0\n",
      "np.std(arr_large): 2.581988897471611\n",
      "np.var(arr_large): 6.666666666666667\n",
      "np.min(arr_large): 1\n",
      "np.max(arr_large): 9\n",
      "np.argmin(arr_large): 0\n",
      "np.argmax(arr_large): 8\n"
     ]
    }
   ],
   "source": [
    "print(f\"np.mean(arr_large): {np.mean(arr_large)}\") # Mean (average)\n",
    "print(f\"arr_large.mean(): {arr_large.mean()}\")\n",
    "\n",
    "print(f\"np.std(arr_large): {np.std(arr_large)}\") # Standard deviation\n",
    "print(f\"np.var(arr_large): {np.var(arr_large)}\") # Variance\n",
    "\n",
    "print(f\"np.min(arr_large): {np.min(arr_large)}\") # Minimum value\n",
    "print(f\"np.max(arr_large): {np.max(arr_large)}\") # Maximum value\n",
    "\n",
    "print(f\"np.argmin(arr_large): {np.argmin(arr_large)}\") # Index of minimum value (flattened array)\n",
    "print(f\"np.argmax(arr_large): {np.argmax(arr_large)}\") # Index of maximum value (flattened array)\n"
   ]
  },
  {
   "cell_type": "code",
   "execution_count": 32,
   "id": "26bf672c-c1a1-4d3b-94bc-0a28503e7aa7",
   "metadata": {},
   "outputs": [
    {
     "name": "stdout",
     "output_type": "stream",
     "text": [
      "np.cumsum(arr1): [ 1  3  6 10]\n",
      "np.cumprod(arr1): [ 1  2  6 24]\n"
     ]
    }
   ],
   "source": [
    "# Cumulative aggregations\n",
    "print(f\"np.cumsum(arr1): {np.cumsum(arr1)}\") # Cumulative sum\n",
    "print(f\"np.cumprod(arr1): {np.cumprod(arr1)}\") # Cumulative product\n"
   ]
  },
  {
   "cell_type": "code",
   "execution_count": 33,
   "id": "6a936917-4d7b-4752-81e2-a03fc10bba11",
   "metadata": {},
   "outputs": [
    {
     "name": "stdout",
     "output_type": "stream",
     "text": [
      "\n",
      "np.sum(arr_bool1): 2\n",
      "np.any(arr_bool1): True\n",
      "np.all(arr_bool1): False\n",
      "np.all(arr_bool2): False\n",
      "--------------------\n"
     ]
    }
   ],
   "source": [
    "# Aggregations with boolean arrays\n",
    "print(f\"\\nnp.sum(arr_bool1): {np.sum(arr_bool1)}\") # Counts True values (True=1, False=0)\n",
    "print(f\"np.any(arr_bool1): {np.any(arr_bool1)}\") # Check if any element is True\n",
    "print(f\"np.all(arr_bool1): {np.all(arr_bool1)}\") # Check if all elements are True\n",
    "print(f\"np.all(arr_bool2): {np.all(arr_bool2)}\")\n",
    "print(\"-\" * 20)"
   ]
  },
  {
   "cell_type": "code",
   "execution_count": 35,
   "id": "e2068f7a-4747-457c-8e60-6aadb6e93845",
   "metadata": {},
   "outputs": [],
   "source": [
    "# --- Axis Parameter ---\n",
    "# Perform aggregations along specific dimensions (rows, columns, etc.)\n",
    "# axis=0: Aggregate along rows (collapse rows, result per column)\n",
    "# axis=1: Aggregate along columns (collapse columns, result per row)\n",
    "# axis=None (default): Aggregate over the entire array"
   ]
  },
  {
   "cell_type": "code",
   "execution_count": 36,
   "id": "6b1c00f9-54fe-4c3c-b0d5-3625c75fa7bb",
   "metadata": {},
   "outputs": [
    {
     "name": "stdout",
     "output_type": "stream",
     "text": [
      "--- Aggregations with Axis Parameter ---\n",
      "arr_large:\n",
      "[1 2 3 4 5 6 7 8 9]\n"
     ]
    }
   ],
   "source": [
    "print(\"--- Aggregations with Axis Parameter ---\")\n",
    "print(f\"arr_large:\\n{arr_large}\")"
   ]
  },
  {
   "cell_type": "code",
   "execution_count": 39,
   "id": "1ef25c34-9d01-4fbb-a309-30df75882198",
   "metadata": {},
   "outputs": [],
   "source": [
    "# print(f\"\\nSum along columns (axis=0): {arr_large.sum(axis=0)}\") # Output: [12 15 18] (1+4+7, 2+5+8, 3+6+9)\n",
    "# print(f\"Sum along rows (axis=1): {arr_large.sum(axis=1)}\") # Output: [ 6 15 24] (1+2+3, 4+5+6, 7+8+9)\n",
    "\n",
    "# print(f\"\\nMean along columns (axis=0): {arr_large.mean(axis=0)}\") # Output: [4. 5. 6.]\n",
    "# print(f\"Mean along rows (axis=1): {arr_large.mean(axis=1)}\") # Output: [2. 5. 8.]\n",
    "\n",
    "# print(f\"\\nMax along columns (axis=0): {arr_large.max(axis=0)}\") # Output: [7 8 9]\n",
    "# print(f\"Max along rows (axis=1): {arr_large.max(axis=1)}\") # Output: [3 6 9]"
   ]
  },
  {
   "cell_type": "code",
   "execution_count": 41,
   "id": "8af42085-fd93-4e7a-b0aa-0f3c32fdebe8",
   "metadata": {},
   "outputs": [],
   "source": [
    "# # argmin/argmax return indices along the specified axis\n",
    "# print(f\"\\nArgmax along columns (axis=0): {arr_large.argmax(axis=0)}\") # Output: [2 2 2] (indices of max in each col)\n",
    "# print(f\"Argmax along rows (axis=1): {arr_large.argmax(axis=1)}\") # Output: [2 2 2] (indices of max in each row)\n"
   ]
  },
  {
   "cell_type": "code",
   "execution_count": 43,
   "id": "102af250-c89f-4e10-9f3f-e213db19e303",
   "metadata": {},
   "outputs": [],
   "source": [
    "# # Cumulative functions also work with axis\n",
    "# print(f\"\\nCumsum along columns (axis=0):\\n{arr_large.cumsum(axis=0)}\")\n",
    "# # Output:\n",
    "# # [[ 1  2  3]\n",
    "# #  [ 5  7  9]\n",
    "# #  [12 15 18]]\n",
    "# print(f\"\\nCumsum along rows (axis=1):\\n{arr_large.cumsum(axis=1)}\")\n",
    "# # Output:\n",
    "# # [[ 1  3  6]\n",
    "# #  [ 4  9 15]\n",
    "# #  [ 7 15 24]]\n",
    "# print(\"-\" * 30)"
   ]
  },
  {
   "cell_type": "code",
   "execution_count": null,
   "id": "0fb2ef34-42f2-437d-943a-9d1988b0cb7c",
   "metadata": {},
   "outputs": [],
   "source": []
  }
 ],
 "metadata": {
  "kernelspec": {
   "display_name": "Python 3 (ipykernel)",
   "language": "python",
   "name": "python3"
  },
  "language_info": {
   "codemirror_mode": {
    "name": "ipython",
    "version": 3
   },
   "file_extension": ".py",
   "mimetype": "text/x-python",
   "name": "python",
   "nbconvert_exporter": "python",
   "pygments_lexer": "ipython3",
   "version": "3.10.11"
  }
 },
 "nbformat": 4,
 "nbformat_minor": 5
}
