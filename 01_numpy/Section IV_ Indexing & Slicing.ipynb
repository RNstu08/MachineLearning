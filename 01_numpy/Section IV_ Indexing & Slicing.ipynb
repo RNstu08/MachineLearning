{
 "cells": [
  {
   "cell_type": "code",
   "execution_count": 1,
   "id": "40f1fa3b-05a2-4ef9-8b26-da67d2d7a77d",
   "metadata": {},
   "outputs": [],
   "source": [
    "import numpy as np"
   ]
  },
  {
   "cell_type": "code",
   "execution_count": 2,
   "id": "a74e70a7-a495-4efa-868f-079c78118d57",
   "metadata": {},
   "outputs": [
    {
     "name": "stdout",
     "output_type": "stream",
     "text": [
      "1D Array (arr_1d):\n",
      " [0 1 2 3 4 5 6 7 8 9]\n"
     ]
    }
   ],
   "source": [
    "# --- Create Sample Arrays ---\n",
    "\n",
    "arr_1d = np.arange(10) # [0 1 2 3 4 5 6 7 8 9]\n",
    "print(\"1D Array (arr_1d):\\n\", arr_1d)"
   ]
  },
  {
   "cell_type": "code",
   "execution_count": 8,
   "id": "a55bc3af-6a59-459e-ba4d-c0043cdc1af8",
   "metadata": {},
   "outputs": [
    {
     "name": "stdout",
     "output_type": "stream",
     "text": [
      "\n",
      "2D Array (arr_2d):\n",
      " [[ 1  2  3  4]\n",
      " [ 5  6  7  8]\n",
      " [ 9 10 11 12]]\n",
      "------------------------------\n"
     ]
    }
   ],
   "source": [
    "arr_2d = np.array([[1, 2, 3, 4],\n",
    "                   [5, 6, 7, 8],\n",
    "                   [9, 10, 11, 12]])\n",
    "print(\"\\n2D Array (arr_2d):\\n\", arr_2d)\n",
    "print(\"-\" * 30)"
   ]
  },
  {
   "cell_type": "markdown",
   "id": "4eceae94-75ff-49a1-b363-c0d73ce757f0",
   "metadata": {},
   "source": [
    "## 1. Basic Indexing (Accessing Single Elements)\n",
    "Uses zero-based integer indices"
   ]
  },
  {
   "cell_type": "code",
   "execution_count": 15,
   "id": "8bb731c1-9434-436e-93b8-c87b19dd53ea",
   "metadata": {},
   "outputs": [
    {
     "name": "stdout",
     "output_type": "stream",
     "text": [
      "arr_1d[3]: 3\n"
     ]
    }
   ],
   "source": [
    "# 1D Array\n",
    "\n",
    "element_1d = arr_1d[3] # Get the element at index 3\n",
    "print(f\"arr_1d[3]: {element_1d}\") # Output: 3"
   ]
  },
  {
   "cell_type": "code",
   "execution_count": 13,
   "id": "38a278d9-735e-4723-9251-76c6259518e9",
   "metadata": {},
   "outputs": [
    {
     "name": "stdout",
     "output_type": "stream",
     "text": [
      "\n",
      "arr_2d[1, 2]: 7\n"
     ]
    }
   ],
   "source": [
    "# 2D Array\n",
    "# Use comma-separated indices: arr[row_index, column_index]\n",
    "\n",
    "element_2d = arr_2d[1, 2] # Get element in row 1, column 2\n",
    "print(f\"\\narr_2d[1, 2]: {element_2d}\") # Output: 7"
   ]
  },
  {
   "cell_type": "code",
   "execution_count": 14,
   "id": "2df7aa78-e07c-49e6-aa44-c8aafe474e03",
   "metadata": {},
   "outputs": [
    {
     "name": "stdout",
     "output_type": "stream",
     "text": [
      "arr_2d[1][2]: 7\n",
      "------------------------------\n"
     ]
    }
   ],
   "source": [
    "# Can also use chained brackets (less efficient, generally avoid for single elements)\n",
    "\n",
    "element_2d_chained = arr_2d[1][2]\n",
    "print(f\"arr_2d[1][2]: {element_2d_chained}\") # Output: 7\n",
    "print(\"-\" * 30)"
   ]
  },
  {
   "cell_type": "markdown",
   "id": "6a234c3d-0c70-4412-8731-151753980480",
   "metadata": {},
   "source": [
    "## 2. Slicing (Extracting Subarrays)\n",
    "\n",
    "- Syntax: **start:stop:step** (stop is exclusive)\n",
    "- Omitting start defaults to 0, omitting stop defaults to end, omitting step defaults to 1"
   ]
  },
  {
   "cell_type": "markdown",
   "id": "8d27136c-e85c-497c-9717-190fc4bb80d6",
   "metadata": {},
   "source": [
    "#### 1D Array Slicing"
   ]
  },
  {
   "cell_type": "code",
   "execution_count": 24,
   "id": "84316c2a-f39b-4ada-907c-2541388fd530",
   "metadata": {},
   "outputs": [
    {
     "name": "stdout",
     "output_type": "stream",
     "text": [
      "arr_1d[2:6]: [2 3 4 5]\n"
     ]
    }
   ],
   "source": [
    "slice_1d_1 = arr_1d[2:6] # Elements from index 2 up to (not including) 6\n",
    "print(f\"arr_1d[2:6]: {slice_1d_1}\") # Output: [2 3 4 5]"
   ]
  },
  {
   "cell_type": "code",
   "execution_count": 20,
   "id": "cba4e1e0-7727-4df6-882a-0b353bbfd576",
   "metadata": {},
   "outputs": [
    {
     "name": "stdout",
     "output_type": "stream",
     "text": [
      "arr_1d[:4]: [0 1 2 3]\n"
     ]
    }
   ],
   "source": [
    "slice_1d_2 = arr_1d[:4] # Elements from the beginning up to index 4\n",
    "print(f\"arr_1d[:4]: {slice_1d_2}\") # Output: [0 1 2 3]"
   ]
  },
  {
   "cell_type": "code",
   "execution_count": 21,
   "id": "418932ed-e575-4e38-ad57-2dce899ab7f9",
   "metadata": {},
   "outputs": [
    {
     "name": "stdout",
     "output_type": "stream",
     "text": [
      "arr_1d[5:]: [5 6 7 8 9]\n"
     ]
    }
   ],
   "source": [
    "slice_1d_3 = arr_1d[5:] # Elements from index 5 to the end\n",
    "print(f\"arr_1d[5:]: {slice_1d_3}\") # Output: [5 6 7 8 9]"
   ]
  },
  {
   "cell_type": "code",
   "execution_count": 22,
   "id": "9cf039ae-f532-43da-bf46-4e12a3fb6145",
   "metadata": {},
   "outputs": [
    {
     "name": "stdout",
     "output_type": "stream",
     "text": [
      "arr_1d[0:8:2]: [0 2 4 6]\n"
     ]
    }
   ],
   "source": [
    "slice_1d_step = arr_1d[0:8:2] # Elements from index 0 to 8, step 2\n",
    "print(f\"arr_1d[0:8:2]: {slice_1d_step}\") # Output: [0 2 4 6]"
   ]
  },
  {
   "cell_type": "code",
   "execution_count": 23,
   "id": "a5eff446-296f-4266-ae5a-cddc200f69ca",
   "metadata": {},
   "outputs": [
    {
     "name": "stdout",
     "output_type": "stream",
     "text": [
      "arr_1d[::-1]: [9 8 7 6 5 4 3 2 1 0]\n"
     ]
    }
   ],
   "source": [
    "slice_1d_reverse = arr_1d[::-1] # Reverse the array\n",
    "print(f\"arr_1d[::-1]: {slice_1d_reverse}\") # Output: [9 8 7 6 5 4 3 2 1 0]"
   ]
  },
  {
   "cell_type": "markdown",
   "id": "7ab69d67-92ba-48ab-af3b-f8388ac50afe",
   "metadata": {},
   "source": [
    "#### 2D Array Slicing"
   ]
  },
  {
   "cell_type": "code",
   "execution_count": 28,
   "id": "e0c7fbbe-3b66-4f5d-bab1-c16847a32e8f",
   "metadata": {},
   "outputs": [
    {
     "name": "stdout",
     "output_type": "stream",
     "text": [
      "\n",
      "2D Array (arr_2d):\n",
      " [[ 1  2  3  4]\n",
      " [ 5  6  7  8]\n",
      " [ 9 10 11 12]]\n"
     ]
    }
   ],
   "source": [
    "arr_2d = np.array([[1, 2, 3, 4],\n",
    "                   [5, 6, 7, 8],\n",
    "                   [9, 10, 11, 12]])\n",
    "print(\"\\n2D Array (arr_2d):\\n\", arr_2d)"
   ]
  },
  {
   "cell_type": "code",
   "execution_count": 50,
   "id": "553be153-ff4f-4a1e-8974-83a9bce83076",
   "metadata": {},
   "outputs": [
    {
     "name": "stdout",
     "output_type": "stream",
     "text": [
      "\n",
      "arr_2d[0:2]:\n",
      "[[1 2 3 4]\n",
      " [5 6 7 8]]\n"
     ]
    }
   ],
   "source": [
    "# Apply slicing to each dimension, separated by commas: arr[row_slice, col_slice]\n",
    "\n",
    "# Get the first two rows (rows 0 and 1)\n",
    "slice_2d_rows = arr_2d[0:2]\n",
    "print(f\"\\narr_2d[0:2]:\\n{slice_2d_rows}\")"
   ]
  },
  {
   "cell_type": "code",
   "execution_count": 51,
   "id": "de60e337-ce72-4625-bee7-8b88c1e5b552",
   "metadata": {},
   "outputs": [
    {
     "name": "stdout",
     "output_type": "stream",
     "text": [
      "\n",
      "arr_2d[:, 1:3]:\n",
      "[[ 2  3]\n",
      " [ 6  7]\n",
      " [10 11]]\n"
     ]
    }
   ],
   "source": [
    "# Get columns 1 and 2 from all rows\n",
    "slice_2d_cols = arr_2d[:, 1:3]\n",
    "print(f\"\\narr_2d[:, 1:3]:\\n{slice_2d_cols}\")"
   ]
  },
  {
   "cell_type": "code",
   "execution_count": 52,
   "id": "7167d126-23af-42fe-ae8f-a8c91e3f2293",
   "metadata": {},
   "outputs": [
    {
     "name": "stdout",
     "output_type": "stream",
     "text": [
      "\n",
      "arr_2d[1:, 2:]:\n",
      "[[ 7  8]\n",
      " [11 12]]\n"
     ]
    }
   ],
   "source": [
    "# Get rows from index 1 onwards, columns from index 2 onwards\n",
    "slice_2d_submatrix = arr_2d[1:, 2:]\n",
    "print(f\"\\narr_2d[1:, 2:]:\\n{slice_2d_submatrix}\")"
   ]
  },
  {
   "cell_type": "markdown",
   "id": "08252074-8364-4637-a007-fbb75b56c73d",
   "metadata": {},
   "source": [
    "## 3. Integer Array Indexing (Fancy Indexing)\n",
    "- Use arrays of integers to select specific elements, rows, or columns.\n",
    "- This *always* returns a COPY of the data, not a view."
   ]
  },
  {
   "cell_type": "markdown",
   "id": "d9b2c208-c4ca-4e07-a6d8-8e574324fb5c",
   "metadata": {},
   "source": [
    "#### 1D Array"
   ]
  },
  {
   "cell_type": "code",
   "execution_count": 55,
   "id": "a403e3d1-07b6-4af5-a176-9eeeda54f2d2",
   "metadata": {},
   "outputs": [
    {
     "name": "stdout",
     "output_type": "stream",
     "text": [
      "arr_1d[[1, 4, 5, 8]]: [1 4 5 8]\n"
     ]
    }
   ],
   "source": [
    "indices_1d = np.array([1, 4, 5, 8])\n",
    "fancy_1d = arr_1d[indices_1d] # Select elements at these specific indices\n",
    "\n",
    "print(f\"arr_1d[[1, 4, 5, 8]]: {fancy_1d}\")"
   ]
  },
  {
   "cell_type": "markdown",
   "id": "896ccc21-b672-4f4e-bf3b-e7f631888aeb",
   "metadata": {},
   "source": [
    "#### 2D Array - Selecting specific rows"
   ]
  },
  {
   "cell_type": "code",
   "execution_count": 56,
   "id": "354b8a63-47eb-4058-a57b-d27d897d0cf7",
   "metadata": {},
   "outputs": [
    {
     "name": "stdout",
     "output_type": "stream",
     "text": [
      "\n",
      "2D Array (arr_2d):\n",
      " [[ 1  2  3  4]\n",
      " [ 5  6  7  8]\n",
      " [ 9 10 11 12]]\n"
     ]
    }
   ],
   "source": [
    "arr_2d = np.array([[1, 2, 3, 4],\n",
    "                   [5, 6, 7, 8],\n",
    "                   [9, 10, 11, 12]])\n",
    "print(\"\\n2D Array (arr_2d):\\n\", arr_2d)"
   ]
  },
  {
   "cell_type": "code",
   "execution_count": 61,
   "id": "9c7e7b17-0abf-4c43-bec9-8668eab9ef16",
   "metadata": {},
   "outputs": [
    {
     "name": "stdout",
     "output_type": "stream",
     "text": [
      "\n",
      "arr_2d[[0, 2]] (selecting rows):\n",
      "[[ 1  2  3  4]\n",
      " [ 9 10 11 12]]\n"
     ]
    }
   ],
   "source": [
    "row_indices = np.array([0, 2])\n",
    "fancy_rows = arr_2d[row_indices] # Select rows 0 and 2\n",
    "\n",
    "print(f\"\\narr_2d[[0, 2]] (selecting rows):\\n{fancy_rows}\")"
   ]
  },
  {
   "cell_type": "code",
   "execution_count": 64,
   "id": "af94e045-6449-49fa-87a9-83f17b22b87c",
   "metadata": {},
   "outputs": [
    {
     "name": "stdout",
     "output_type": "stream",
     "text": [
      "\n",
      "arr_2d[[0, 1, 2], [1, 3, 0]]: [2 8 9]\n"
     ]
    }
   ],
   "source": [
    "# 2D Array - Selecting specific elements using coordinate pairs\n",
    "# Provide tuples or arrays for row and column indices\n",
    "row_coords = np.array([0, 1, 2])\n",
    "col_coords = np.array([1, 3, 0])\n",
    "\n",
    "fancy_elements = arr_2d[row_coords, col_coords] # Select elements (0,1), (1,3), (2,0)\n",
    "print(f\"\\narr_2d[[0, 1, 2], [1, 3, 0]]: {fancy_elements}\") # Output: [ 2  8  9]"
   ]
  },
  {
   "cell_type": "code",
   "execution_count": 65,
   "id": "4e0d1bbc-bac1-4963-b2d9-c2dec4d192be",
   "metadata": {},
   "outputs": [
    {
     "name": "stdout",
     "output_type": "stream",
     "text": [
      "\n",
      "arr_2d[:, [0, 3]] (selecting columns):\n",
      "[[ 1  4]\n",
      " [ 5  8]\n",
      " [ 9 12]]\n"
     ]
    }
   ],
   "source": [
    "# Selecting specific columns (a bit more complex with just fancy indexing)\n",
    "# Often combined with slicing:\n",
    "col_indices = np.array([0, 3])\n",
    "fancy_cols = arr_2d[:, col_indices] # Select columns 0 and 3 from all rows\n",
    "print(f\"\\narr_2d[:, [0, 3]] (selecting columns):\\n{fancy_cols}\")\n",
    "# Output:\n",
    "# [[ 1  4]\n",
    "#  [ 5  8]\n",
    "#  [ 9 12]]"
   ]
  },
  {
   "cell_type": "markdown",
   "id": "022ed89b-7550-4f6e-bd83-e63d4e3e9817",
   "metadata": {},
   "source": [
    "#### 4. Boolean Array Indexing (Masking)\n",
    "- Use boolean arrays (masks) to select elements where the mask is True.\n",
    "- The mask must have the same shape as the dimension it's indexing, or be broadcastable.\n",
    "- This also returns a COPY of the data."
   ]
  },
  {
   "cell_type": "code",
   "execution_count": 66,
   "id": "07d7cec6-4472-4372-9af1-cec317792999",
   "metadata": {},
   "outputs": [
    {
     "name": "stdout",
     "output_type": "stream",
     "text": [
      "--- Boolean Array Indexing (Masking) ---\n",
      "Mask (arr_1d > 5): [False False False False False False  True  True  True  True]\n",
      "arr_1d[arr_1d > 5]: [6 7 8 9]\n",
      "\n",
      "Mask ((arr_1d > 2) & (arr_1d < 7)): [False False False  True  True  True  True False False False]\n",
      "arr_1d[(arr_1d > 2) & (arr_1d < 7)]: [3 4 5 6]\n",
      "\n",
      "Mask (arr_2d % 2 == 0):\n",
      "[[False  True False  True]\n",
      " [False  True False  True]\n",
      " [False  True False  True]]\n",
      "arr_2d[arr_2d % 2 == 0]: [ 2  4  6  8 10 12]\n",
      "\n",
      "Mask for rows (arr_2d[:, 0] > 1): [False  True  True]\n",
      "arr_2d[arr_2d[:, 0] > 1] (selecting rows):\n",
      "[[ 5  6  7  8]\n",
      " [ 9 10 11 12]]\n",
      "------------------------------\n"
     ]
    }
   ],
   "source": [
    "print(\"--- Boolean Array Indexing (Masking) ---\")\n",
    "# Create a boolean mask based on a condition\n",
    "mask = arr_1d > 5\n",
    "print(f\"Mask (arr_1d > 5): {mask}\") # Output: [F F F F F F T T T T] (F=False, T=True)\n",
    "\n",
    "# Apply the mask\n",
    "masked_1d = arr_1d[mask]\n",
    "print(f\"arr_1d[arr_1d > 5]: {masked_1d}\") # Output: [6 7 8 9]\n",
    "\n",
    "# Combine conditions using logical operators (& for AND, | for OR, ~ for NOT)\n",
    "mask_combined = (arr_1d > 2) & (arr_1d < 7)\n",
    "print(f\"\\nMask ((arr_1d > 2) & (arr_1d < 7)): {mask_combined}\")\n",
    "masked_combined_1d = arr_1d[mask_combined]\n",
    "print(f\"arr_1d[(arr_1d > 2) & (arr_1d < 7)]: {masked_combined_1d}\") # Output: [3 4 5 6]\n",
    "\n",
    "# Masking on 2D arrays\n",
    "mask_2d = arr_2d % 2 == 0 # Select even numbers\n",
    "print(f\"\\nMask (arr_2d % 2 == 0):\\n{mask_2d}\")\n",
    "masked_2d = arr_2d[mask_2d] # Returns a 1D array of the selected elements\n",
    "print(f\"arr_2d[arr_2d % 2 == 0]: {masked_2d}\") # Output: [ 2  4  6  8 10 12]\n",
    "\n",
    "# Select rows based on a condition on a specific column\n",
    "# Example: Select rows where the first column (index 0) is greater than 1\n",
    "mask_rows = arr_2d[:, 0] > 1\n",
    "print(f\"\\nMask for rows (arr_2d[:, 0] > 1): {mask_rows}\") # Output: [False True True]\n",
    "selected_rows = arr_2d[mask_rows] # Select rows where the mask is True\n",
    "# selected_rows = arr_2d[arr_2d[:, 0] > 1] # Equivalent shorter form\n",
    "print(f\"arr_2d[arr_2d[:, 0] > 1] (selecting rows):\\n{selected_rows}\")\n",
    "# Output:\n",
    "# [[ 5  6  7  8]\n",
    "#  [ 9 10 11 12]]\n",
    "print(\"-\" * 30)"
   ]
  },
  {
   "cell_type": "markdown",
   "id": "21932600-b705-4291-b1d8-ce3d38205620",
   "metadata": {},
   "source": [
    "#### 5. Combining Indexing Types\n",
    "- You can mix slicing, basic indexing, fancy indexing, and boolean indexing."
   ]
  },
  {
   "cell_type": "code",
   "execution_count": 67,
   "id": "a8e193b4-1370-4582-9e77-adeb7ad96c37",
   "metadata": {},
   "outputs": [
    {
     "name": "stdout",
     "output_type": "stream",
     "text": [
      "arr_2d[0:2, [1, 3]]:\n",
      "[[2 4]\n",
      " [6 8]]\n",
      "\n",
      "Last row: [ 9 10 11 12]\n",
      "Elements > 10 in last row: [11 12]\n",
      "arr_2d[-1, arr_2d[-1] > 10]: [11 12]\n",
      "------------------------------\n"
     ]
    }
   ],
   "source": [
    "# Select specific columns (1 and 3) from the first two rows (0 and 1)\n",
    "combined_slice_fancy = arr_2d[0:2, [1, 3]]\n",
    "print(f\"arr_2d[0:2, [1, 3]]:\\n{combined_slice_fancy}\")\n",
    "# Output:\n",
    "# [[2 4]\n",
    "#  [6 8]]\n",
    "\n",
    "# Select elements greater than 10 from the last row\n",
    "last_row = arr_2d[-1] # Basic indexing to get the last row\n",
    "print(f\"\\nLast row: {last_row}\")\n",
    "combined_bool = last_row[last_row > 10] # Boolean indexing on the selected row\n",
    "print(f\"Elements > 10 in last row: {combined_bool}\") # Output: [11 12]\n",
    "\n",
    "# Equivalent in one step:\n",
    "combined_bool_direct = arr_2d[-1, arr_2d[-1] > 10]\n",
    "print(f\"arr_2d[-1, arr_2d[-1] > 10]: {combined_bool_direct}\") # Output: [11 12]\n",
    "print(\"-\" * 30)"
   ]
  },
  {
   "cell_type": "markdown",
   "id": "5382b27d-f883-4d72-ab3f-eb7960934abf",
   "metadata": {},
   "source": [
    "#### 6. Views vs. Copies\n",
    "- IMPORTANT: Understanding the difference is crucial to avoid unexpected behavior."
   ]
  },
  {
   "cell_type": "code",
   "execution_count": 68,
   "id": "3a2c3f38-88e2-4ac9-b69d-500bda4b0518",
   "metadata": {},
   "outputs": [
    {
     "name": "stdout",
     "output_type": "stream",
     "text": [
      "Original slice (arr_slice): [2 3 4]\n",
      "Original array (arr_1d) before modification: [0 1 2 3 4 5 6 7 8 9]\n",
      "\n",
      "Modified slice: [99  3  4]\n",
      "Original array (arr_1d) AFTER modification: [ 0  1 99  3  4  5  6  7  8  9]\n",
      "\n",
      "Restored arr_1d: [0 1 2 3 4 5 6 7 8 9]\n",
      "\n",
      "Original fancy indexed array (arr_fancy): [1 3 5]\n",
      "Original array (arr_1d) before modification: [0 1 2 3 4 5 6 7 8 9]\n",
      "\n",
      "Modified fancy indexed array: [88  3  5]\n",
      "Original array (arr_1d) AFTER modification: [0 1 2 3 4 5 6 7 8 9]\n",
      "\n",
      "Original slice copy (arr_slice_copy): [2 3 4]\n",
      "Original array (arr_1d) before modification: [0 1 2 3 4 5 6 7 8 9]\n",
      "\n",
      "Modified slice copy: [77  3  4]\n",
      "Original array (arr_1d) AFTER modification: [0 1 2 3 4 5 6 7 8 9]\n",
      "------------------------------\n"
     ]
    }
   ],
   "source": [
    "# Slicing creates a VIEW: Changes to the view WILL affect the original array.\n",
    "arr_slice = arr_1d[2:5] # [2 3 4]\n",
    "print(f\"Original slice (arr_slice): {arr_slice}\")\n",
    "print(f\"Original array (arr_1d) before modification: {arr_1d}\")\n",
    "\n",
    "arr_slice[0] = 99 # Modify the first element of the slice\n",
    "print(f\"\\nModified slice: {arr_slice}\") # Output: [99 3 4]\n",
    "print(f\"Original array (arr_1d) AFTER modification: {arr_1d}\") # Output: [ 0  1 99  3  4  5  6  7  8  9] - Original is changed!\n",
    "\n",
    "# Restore original arr_1d\n",
    "arr_1d[2] = 2\n",
    "print(f\"\\nRestored arr_1d: {arr_1d}\")\n",
    "\n",
    "# Fancy Indexing and Boolean Indexing create COPIES: Changes to the copy DO NOT affect the original.\n",
    "arr_fancy = arr_1d[[1, 3, 5]] # [1 3 5]\n",
    "print(f\"\\nOriginal fancy indexed array (arr_fancy): {arr_fancy}\")\n",
    "print(f\"Original array (arr_1d) before modification: {arr_1d}\")\n",
    "\n",
    "arr_fancy[0] = 88 # Modify the first element of the fancy indexed array\n",
    "print(f\"\\nModified fancy indexed array: {arr_fancy}\") # Output: [88 3 5]\n",
    "print(f\"Original array (arr_1d) AFTER modification: {arr_1d}\") # Output: [0 1 2 3 4 5 6 7 8 9] - Original is UNCHANGED!\n",
    "\n",
    "# To explicitly create a copy when slicing (or from any array), use the .copy() method\n",
    "arr_slice_copy = arr_1d[2:5].copy()\n",
    "print(f\"\\nOriginal slice copy (arr_slice_copy): {arr_slice_copy}\")\n",
    "print(f\"Original array (arr_1d) before modification: {arr_1d}\")\n",
    "\n",
    "arr_slice_copy[0] = 77 # Modify the copy\n",
    "print(f\"\\nModified slice copy: {arr_slice_copy}\") # Output: [77 3 4]\n",
    "print(f\"Original array (arr_1d) AFTER modification: {arr_1d}\") # Output: [0 1 2 3 4 5 6 7 8 9] - Original is UNCHANGED!\n",
    "print(\"-\" * 30)"
   ]
  },
  {
   "cell_type": "code",
   "execution_count": null,
   "id": "e73cf0b7-b7b4-46ed-9cf1-f7f48c17e215",
   "metadata": {},
   "outputs": [],
   "source": []
  }
 ],
 "metadata": {
  "kernelspec": {
   "display_name": "Python 3 (ipykernel)",
   "language": "python",
   "name": "python3"
  },
  "language_info": {
   "codemirror_mode": {
    "name": "ipython",
    "version": 3
   },
   "file_extension": ".py",
   "mimetype": "text/x-python",
   "name": "python",
   "nbconvert_exporter": "python",
   "pygments_lexer": "ipython3",
   "version": "3.10.11"
  }
 },
 "nbformat": 4,
 "nbformat_minor": 5
}
