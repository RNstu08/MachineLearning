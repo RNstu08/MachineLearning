{
 "cells": [
  {
   "cell_type": "markdown",
   "id": "a6b5b8a4-a1ea-4fac-9121-e659acd654b6",
   "metadata": {},
   "source": [
    "Elastic Net is a versatile regularization technique that combines the properties of both Ridge (L2) and Lasso (L1) regression."
   ]
  },
  {
   "cell_type": "markdown",
   "id": "361e7c47-9dbe-4a08-91fb-02446cb81b9d",
   "metadata": {},
   "source": [
    "---\n",
    "**4. Elastic Net Regression (L1 + L2 Regularization)**\n",
    "\n",
    "* **The Idea:** Elastic Net aims to get the best of both worlds:\n",
    "    * Like Lasso, it can perform feature selection by shrinking some coefficients to exactly zero.\n",
    "    * Like Ridge, it can handle multicollinearity well and tends to select groups of correlated features together rather than arbitrarily picking one (a behavior sometimes seen with Lasso when many features are highly correlated).\n",
    "* **Penalty Term:** Elastic Net adds a penalty term that is a linear combination of the L1 and L2 penalties:\n",
    "    In Scikit-learn's formulation, the cost function for Elastic Net is:\n",
    "    $$J_{ElasticNet}(b) = MSE + \\alpha \\cdot \\text{l1\\_ratio} \\sum_{j=1}^{p} |b_j| + \\alpha \\cdot \\frac{1}{2} (1 - \\text{l1\\_ratio}) \\sum_{j=1}^{p} b_j^2$$\n",
    "* **Hyperparameters:** Elastic Net has two main hyperparameters that need to be tuned:\n",
    "    1.  **`alpha` ($\\alpha \\ge 0$):** This is the overall strength of the regularization. A larger `alpha` means stronger regularization (more shrinkage, potentially more coefficients to zero). If `alpha = 0`, it reduces to OLS Linear Regression.\n",
    "    2.  **`l1_ratio` ($\\rho$, where $0 \\le \\rho \\le 1$):** This is the mixing parameter.\n",
    "        * If `l1_ratio = 1`: Elastic Net behaves like Lasso Regression (pure L1 penalty).\n",
    "        * If `l1_ratio = 0`: Elastic Net behaves like Ridge Regression (pure L2 penalty).\n",
    "        * If $0 < \\text{l1\\_ratio} < 1$: It's a combination of L1 and L2 penalties.\n",
    "* **Effect of Elastic Net Regression:**\n",
    "    * It shrinks coefficients and can perform feature selection (like Lasso).\n",
    "    * It is more robust than Lasso when there are highly correlated predictors; it tends to select or discard them together.\n",
    "    * It can be particularly useful when the number of predictors ($p$) is much larger than the number of observations ($n$), or when there are many correlated features.\n",
    "* **Feature Scaling:** As with Ridge and Lasso, **feature scaling is essential** for Elastic Net."
   ]
  },
  {
   "cell_type": "markdown",
   "id": "f057a8d8-1908-453a-ad2a-8767b5ae3a5e",
   "metadata": {},
   "source": [
    "---\n",
    "**Scikit-learn Implementation:** `sklearn.linear_model.ElasticNet` and `sklearn.linear_model.ElasticNetCV` (for built-in cross-validation to find the best `alpha` and `l1_ratio`).\n",
    "\n",
    "**Code Example (Elastic Net Regression - Self-Contained):**\n",
    "This block includes data loading, preprocessing, and fitting OLS, RidgeCV, and LassoCV for comparison.\n"
   ]
  },
  {
   "cell_type": "code",
   "execution_count": 2,
   "id": "d534882f-f813-4ec0-8944-dfc582280b5e",
   "metadata": {},
   "outputs": [
    {
     "name": "stdout",
     "output_type": "stream",
     "text": [
      "California Housing Dataset Loaded and Scaled.\n",
      "Training features shape: (16512, 8)\n",
      "Test features shape: (4128, 8)\n"
     ]
    }
   ],
   "source": [
    "import numpy as np\n",
    "import pandas as pd\n",
    "from sklearn.datasets import fetch_california_housing\n",
    "from sklearn.model_selection import train_test_split\n",
    "from sklearn.preprocessing import StandardScaler\n",
    "from sklearn.linear_model import LinearRegression, RidgeCV, LassoCV, ElasticNet, ElasticNetCV # Added ElasticNet\n",
    "from sklearn.metrics import mean_squared_error\n",
    "import matplotlib.pyplot as plt\n",
    "import seaborn as sns # For potentially nicer bar plot\n",
    "import warnings\n",
    "warnings.filterwarnings('ignore', category=FutureWarning) # To suppress some sklearn warnings\n",
    "\n",
    "# --- 1. Load and Prepare Data (Essential Setup) ---\n",
    "housing = fetch_california_housing()\n",
    "X, y = housing.data, housing.target\n",
    "X_df = pd.DataFrame(X, columns=housing.feature_names)\n",
    "\n",
    "# Split data\n",
    "X_train_raw, X_test_raw, y_train, y_test = train_test_split(X_df, y, test_size=0.2, random_state=42)\n",
    "\n",
    "# Feature Scaling\n",
    "scaler = StandardScaler()\n",
    "X_train = scaler.fit_transform(X_train_raw)\n",
    "X_test = scaler.transform(X_test_raw)\n",
    "\n",
    "# For coefficient names\n",
    "feature_names = X_train_raw.columns\n",
    "\n",
    "print(\"California Housing Dataset Loaded and Scaled.\")\n",
    "print(f\"Training features shape: {X_train.shape}\")\n",
    "print(f\"Test features shape: {X_test.shape}\")"
   ]
  },
  {
   "cell_type": "code",
   "execution_count": 3,
   "id": "f94c0cfd-e567-4e75-a8e5-f378fcf632f1",
   "metadata": {},
   "outputs": [
    {
     "name": "stdout",
     "output_type": "stream",
     "text": [
      "\n",
      "OLS Linear Regression MSE: 0.5559, R²: 0.5758\n"
     ]
    }
   ],
   "source": [
    "# --- 2. Fit OLS, RidgeCV, LassoCV for comparison ---\n",
    "# OLS Model\n",
    "ols_model = LinearRegression()\n",
    "ols_model.fit(X_train, y_train)\n",
    "ols_mse = mean_squared_error(y_test, ols_model.predict(X_test))\n",
    "ols_r2 = ols_model.score(X_test, y_test)\n",
    "print(f\"\\nOLS Linear Regression MSE: {ols_mse:.4f}, R²: {ols_r2:.4f}\")"
   ]
  },
  {
   "cell_type": "code",
   "execution_count": 4,
   "id": "1fc4cc66-4f11-424e-86bd-199caea1027c",
   "metadata": {},
   "outputs": [
    {
     "name": "stdout",
     "output_type": "stream",
     "text": [
      "RidgeCV (L2) MSE: 0.5559, R²: 0.5758\n"
     ]
    }
   ],
   "source": [
    "# RidgeCV Model\n",
    "alphas_ridge = [0.001, 0.01, 0.1, 1, 10, 100, 1000]\n",
    "ridge_cv_model = RidgeCV(alphas=alphas_ridge, store_cv_values=True)\n",
    "ridge_cv_model.fit(X_train, y_train)\n",
    "ridge_cv_mse = mean_squared_error(y_test, ridge_cv_model.predict(X_test))\n",
    "ridge_cv_r2 = ridge_cv_model.score(X_test, y_test)\n",
    "print(f\"RidgeCV (L2) MSE: {ridge_cv_mse:.4f}, R²: {ridge_cv_r2:.4f}\")"
   ]
  },
  {
   "cell_type": "code",
   "execution_count": 5,
   "id": "2da0e4a0-6311-4e5d-86f5-003b9165f558",
   "metadata": {},
   "outputs": [
    {
     "name": "stdout",
     "output_type": "stream",
     "text": [
      "LassoCV (L1) MSE: 0.5545, R²: 0.5769\n"
     ]
    }
   ],
   "source": [
    "# LassoCV Model\n",
    "alphas_lasso = [0.0001, 0.001, 0.01, 0.1, 1]\n",
    "lasso_cv_model = LassoCV(alphas=alphas_lasso, cv=5, max_iter=10000, random_state=42, n_jobs=-1)\n",
    "lasso_cv_model.fit(X_train, y_train)\n",
    "lasso_cv_mse = mean_squared_error(y_test, lasso_cv_model.predict(X_test))\n",
    "lasso_cv_r2 = lasso_cv_model.score(X_test, y_test)\n",
    "print(f\"LassoCV (L1) MSE: {lasso_cv_mse:.4f}, R²: {lasso_cv_r2:.4f}\")"
   ]
  },
  {
   "cell_type": "code",
   "execution_count": 6,
   "id": "169e76ac-827d-452f-b3fa-b7369d56ca05",
   "metadata": {},
   "outputs": [
    {
     "name": "stdout",
     "output_type": "stream",
     "text": [
      "\n",
      "--- Elastic Net Regression (L1 + L2 Regularization) ---\n",
      "ElasticNet MSE with alpha=0.01, l1_ratio=0.5: 0.5500\n",
      "ElasticNet R-squared: 0.5803\n",
      "Number of coefficients shrunk to zero by ElasticNet: 1 out of 8\n"
     ]
    }
   ],
   "source": [
    "# --- 3. Elastic Net Regression (L1 + L2 Regularization) ---\n",
    "print(\"\\n--- Elastic Net Regression (L1 + L2 Regularization) ---\")\n",
    "\n",
    "# --- Plain ElasticNet with chosen alpha and l1_ratio ---\n",
    "alpha_en = 0.01\n",
    "l1_ratio_en = 0.5 # Mix of L1 and L2\n",
    "en_model = ElasticNet(alpha=alpha_en, l1_ratio=l1_ratio_en, max_iter=10000, random_state=42)\n",
    "en_model.fit(X_train, y_train)\n",
    "\n",
    "en_predictions = en_model.predict(X_test)\n",
    "en_mse = mean_squared_error(y_test, en_predictions)\n",
    "en_r2 = en_model.score(X_test, y_test)\n",
    "print(f\"ElasticNet MSE with alpha={alpha_en}, l1_ratio={l1_ratio_en}: {en_mse:.4f}\")\n",
    "print(f\"ElasticNet R-squared: {en_r2:.4f}\")\n",
    "num_zero_coefs_en = np.sum(en_model.coef_ == 0)\n",
    "print(f\"Number of coefficients shrunk to zero by ElasticNet: {num_zero_coefs_en} out of {len(en_model.coef_)}\")"
   ]
  },
  {
   "cell_type": "code",
   "execution_count": 7,
   "id": "fc2b4440-e5dd-4683-94bf-f64007ccfe1d",
   "metadata": {},
   "outputs": [
    {
     "name": "stdout",
     "output_type": "stream",
     "text": [
      "\n",
      "Best alpha found by ElasticNetCV: 0.001000\n",
      "Best l1_ratio found by ElasticNetCV: 1.00\n"
     ]
    }
   ],
   "source": [
    "# --- ElasticNetCV to find the best alpha and l1_ratio ---\n",
    "# ElasticNetCV can search over a list of l1_ratios as well.\n",
    "en_cv_l1_ratios = [0.1, 0.5, 0.7, 0.9, 0.95, 0.99, 1.0] # l1_ratio=1 is Lasso\n",
    "en_cv_alphas = [0.0001, 0.001, 0.01, 0.1, 1] # Can also let ElasticNetCV choose alphas automatically\n",
    "\n",
    "en_cv_model = ElasticNetCV(l1_ratio=en_cv_l1_ratios, alphas=en_cv_alphas,\n",
    "                           cv=5, max_iter=10000, random_state=42, n_jobs=-1)\n",
    "en_cv_model.fit(X_train, y_train)\n",
    "\n",
    "best_alpha_en_cv = en_cv_model.alpha_\n",
    "best_l1_ratio_en_cv = en_cv_model.l1_ratio_\n",
    "print(f\"\\nBest alpha found by ElasticNetCV: {best_alpha_en_cv:.6f}\")\n",
    "print(f\"Best l1_ratio found by ElasticNetCV: {best_l1_ratio_en_cv:.2f}\")"
   ]
  },
  {
   "cell_type": "code",
   "execution_count": 9,
   "id": "6b40bfd2-e266-4830-b8c3-f5d925241d7b",
   "metadata": {},
   "outputs": [
    {
     "name": "stdout",
     "output_type": "stream",
     "text": [
      "ElasticNetCV MSE with best params: 0.5545\n",
      "ElasticNetCV R-squared: 0.5769\n"
     ]
    }
   ],
   "source": [
    "en_cv_predictions = en_cv_model.predict(X_test)\n",
    "en_cv_mse = mean_squared_error(y_test, en_cv_predictions)\n",
    "en_cv_r2 = en_cv_model.score(X_test, y_test)\n",
    "print(f\"ElasticNetCV MSE with best params: {en_cv_mse:.4f}\")\n",
    "print(f\"ElasticNetCV R-squared: {en_cv_r2:.4f}\")"
   ]
  },
  {
   "cell_type": "code",
   "execution_count": 10,
   "id": "e45fc238-0a66-45a5-98e5-1b86d3167beb",
   "metadata": {},
   "outputs": [
    {
     "name": "stdout",
     "output_type": "stream",
     "text": [
      "\n",
      "Coefficients from ElasticNetCV model:\n",
      "MedInc        0.849140\n",
      "AveBedrms     0.326050\n",
      "HouseAge      0.123346\n",
      "Population   -0.001062\n",
      "AveOccup     -0.039890\n",
      "AveRooms     -0.281273\n",
      "Longitude    -0.858093\n",
      "Latitude     -0.885822\n",
      "dtype: float64\n"
     ]
    }
   ],
   "source": [
    "print(\"\\nCoefficients from ElasticNetCV model:\")\n",
    "en_cv_coefs = pd.Series(en_cv_model.coef_, index=feature_names)\n",
    "print(en_cv_coefs.sort_values(ascending=False))"
   ]
  },
  {
   "cell_type": "code",
   "execution_count": 11,
   "id": "c6ab276d-f94d-4dc9-a4d9-ee8dd521a340",
   "metadata": {},
   "outputs": [
    {
     "name": "stdout",
     "output_type": "stream",
     "text": [
      "\n",
      "Number of coefficients shrunk to zero by ElasticNetCV: 0 out of 8\n",
      "Features selected by ElasticNetCV: ['MedInc', 'HouseAge', 'AveRooms', 'AveBedrms', 'Population', 'AveOccup', 'Latitude', 'Longitude']\n"
     ]
    }
   ],
   "source": [
    "num_zero_coefs_encv = np.sum(en_cv_model.coef_ == 0)\n",
    "selected_features_encv = feature_names[en_cv_model.coef_ != 0]\n",
    "print(f\"\\nNumber of coefficients shrunk to zero by ElasticNetCV: {num_zero_coefs_encv} out of {len(en_cv_model.coef_)}\")\n",
    "print(f\"Features selected by ElasticNetCV: {list(selected_features_encv)}\")"
   ]
  },
  {
   "cell_type": "code",
   "execution_count": 12,
   "id": "c04e5e89-eba6-4bdb-be94-88c36a2d5022",
   "metadata": {},
   "outputs": [
    {
     "name": "stdout",
     "output_type": "stream",
     "text": [
      "\n",
      "--- Performance Comparison (Test Set) ---\n",
      "  OLS Linear Regression MSE: 0.5559, R²: 0.5758\n",
      "  RidgeCV (L2)        MSE: 0.5559, R²: 0.5758\n",
      "  LassoCV (L1)        MSE: 0.5545, R²: 0.5769\n",
      "  ElasticNetCV        MSE: 0.5545, R²: 0.5769\n"
     ]
    }
   ],
   "source": [
    "# --- 4. Comparison Print and Plot ---\n",
    "print(f\"\\n--- Performance Comparison (Test Set) ---\")\n",
    "print(f\"  OLS Linear Regression MSE: {ols_mse:.4f}, R²: {ols_r2:.4f}\")\n",
    "print(f\"  RidgeCV (L2)        MSE: {ridge_cv_mse:.4f}, R²: {ridge_cv_r2:.4f}\")\n",
    "print(f\"  LassoCV (L1)        MSE: {lasso_cv_mse:.4f}, R²: {lasso_cv_r2:.4f}\")\n",
    "print(f\"  ElasticNetCV        MSE: {en_cv_mse:.4f}, R²: {en_cv_r2:.4f}\")"
   ]
  },
  {
   "cell_type": "code",
   "execution_count": 13,
   "id": "02d62f5d-b5db-4363-b7cd-6700a8afa285",
   "metadata": {},
   "outputs": [
    {
     "data": {
      "text/plain": [
       "<Figure size 1200x800 with 0 Axes>"
      ]
     },
     "metadata": {},
     "output_type": "display_data"
    }
   ],
   "source": [
    "# Visualizing Coefficients\n",
    "plt.figure(figsize=(12, 8)) # Adjusted figure size\n",
    "coef_comparison = pd.DataFrame({\n",
    "    'Feature': feature_names,\n",
    "    'OLS': ols_model.coef_,\n",
    "    'RidgeCV': ridge_cv_model.coef_,\n",
    "    'LassoCV': lasso_cv_model.coef_,\n",
    "    'ElasticNetCV': en_cv_model.coef_\n",
    "})\n",
    "coef_comparison_melted = coef_comparison.melt(id_vars='Feature', var_name='Model', value_name='Coefficient Value')"
   ]
  },
  {
   "cell_type": "code",
   "execution_count": 14,
   "id": "9ebe93d6-d715-4886-b8d2-6a31f81b69ad",
   "metadata": {},
   "outputs": [
    {
     "data": {
      "image/png": "[encoded data removed]",
      "text/plain": [
       "<Figure size 640x480 with 1 Axes>"
      ]
     },
     "metadata": {},
     "output_type": "display_data"
    }
   ],
   "source": [
    "sns.barplot(x='Coefficient Value', y='Feature', hue='Model', data=coef_comparison_melted, orient='h') # Horizontal bar plot\n",
    "plt.title('Comparison of Coefficients (OLS, RidgeCV, LassoCV, ElasticNetCV)')\n",
    "plt.xlabel('Coefficient Value')\n",
    "plt.ylabel('Feature')\n",
    "plt.grid(axis='x', linestyle='--', alpha=0.7)\n",
    "plt.tight_layout()\n",
    "plt.show()"
   ]
  },
  {
   "cell_type": "markdown",
   "id": "50d9101b-7223-4c85-a0bd-9d6f990f875f",
   "metadata": {},
   "source": [
    "**Observations from Elastic Net:**\n",
    "* `ElasticNetCV` will find the best combination of `alpha` and `l1_ratio` from the ones you provide (or its defaults).\n",
    "* If the best `l1_ratio` is close to 1, it suggests Lasso-like behavior is optimal. If it's close to 0 (though `ElasticNetCV`'s `l1_ratio` typically doesn't go exactly to 0 unless specified as `[0]`), it suggests Ridge-like behavior. Values in between indicate a true mix is beneficial.\n",
    "* You may see some coefficients shrunk to zero, like Lasso, but the handling of correlated features might be more stable (coefficients for correlated features might be similar rather than one being zeroed out).\n",
    "* The performance of Elastic Net can sometimes be the best of the regularized models, especially on datasets with complex correlation structures among features.\n",
    "\n",
    "This completes the trio of commonly used regularized linear models. Each has its strengths, and Elastic Net provides a flexible way to blend the characteristics of Ridge and Lasso."
   ]
  },
  {
   "cell_type": "code",
   "execution_count": null,
   "id": "b76a9e39-db86-450b-a7d2-4a7fd095be31",
   "metadata": {},
   "outputs": [],
   "source": []
  }
 ],
 "metadata": {
  "kernelspec": {
   "display_name": "Python 3 (ipykernel)",
   "language": "python",
   "name": "python3"
  },
  "language_info": {
   "codemirror_mode": {
    "name": "ipython",
    "version": 3
   },
   "file_extension": ".py",
   "mimetype": "text/x-python",
   "name": "python",
   "nbconvert_exporter": "python",
   "pygments_lexer": "ipython3",
   "version": "3.13.3"
  }
 },
 "nbformat": 4,
 "nbformat_minor": 5
}
