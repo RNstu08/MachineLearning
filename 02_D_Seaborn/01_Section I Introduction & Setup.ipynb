{
 "cells": [
  {
   "cell_type": "markdown",
   "id": "f8f1d2b5-e043-4c79-b879-a43c11276b82",
   "metadata": {},
   "source": [
    "# What is Seaborn?\n",
    "\n",
    "**Purpose:** `Seaborn` is a Python data visualization library based on `Matplotlib`. Its primary goal is to provide a high-level interface for drawing attractive and informative statistical graphics.\n",
    "\n",
    "**Relationship with Matplotlib:** `Seaborn` builds directly on `Matplotlib`. You can think of it as making `Matplotlib` easier to use for common statistical plotting tasks and providing better-looking default styles. You'll often use `Matplotlib` functions alongside `Seaborn` to customize plots further.\n",
    "\n",
    "## Advantages:\n",
    "\n",
    "* **Aesthetics:** Creates visually appealing plots with sensible defaults.\n",
    "* **Pandas Integration:** Works seamlessly with `Pandas` `DataFrames`, allowing you to easily map `DataFrame` columns to plot aesthetics.\n",
    "* **Statistical Focus:** Has specialized functions designed to visualize statistical relationships, distributions, and comparisons, often including built-in statistical estimation (like confidence intervals or regression lines).\n",
    "\n",
    "## Installation:\n",
    "\n",
    "If you don't have `Seaborn` installed, you can install it using pip:\n",
    "\n",
    "```bash\n",
    "pip install seaborn"
   ]
  },
  {
   "cell_type": "code",
   "execution_count": null,
   "id": "7f2e662f-49e6-40f3-97f8-960ce1f0116d",
   "metadata": {},
   "outputs": [],
   "source": []
  }
 ],
 "metadata": {
  "kernelspec": {
   "display_name": "Python 3 (ipykernel)",
   "language": "python",
   "name": "python3"
  },
  "language_info": {
   "codemirror_mode": {
    "name": "ipython",
    "version": 3
   },
   "file_extension": ".py",
   "mimetype": "text/x-python",
   "name": "python",
   "nbconvert_exporter": "python",
   "pygments_lexer": "ipython3",
   "version": "3.13.3"
  }
 },
 "nbformat": 4,
 "nbformat_minor": 5
}
