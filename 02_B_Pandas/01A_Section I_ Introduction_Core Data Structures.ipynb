{
 "cells": [
  {
   "cell_type": "code",
   "execution_count": 2,
   "id": "0b397dfe-c6e6-40fc-a0d3-2483a80a5c10",
   "metadata": {},
   "outputs": [
    {
     "name": "stdout",
     "output_type": "stream",
     "text": [
      "Collecting pandas\n",
      "  Using cached pandas-2.2.3-cp313-cp313-win_amd64.whl.metadata (19 kB)\n",
      "Collecting numpy>=1.26.0 (from pandas)\n",
      "  Downloading numpy-2.2.5-cp313-cp313-win_amd64.whl.metadata (60 kB)\n",
      "Requirement already satisfied: python-dateutil>=2.8.2 in g:\\learning\\machine_learning\\pandas\\venv\\lib\\site-packages (from pandas) (2.9.0.post0)\n",
      "Collecting pytz>=2020.1 (from pandas)\n",
      "  Downloading pytz-2025.2-py2.py3-none-any.whl.metadata (22 kB)\n",
      "Collecting tzdata>=2022.7 (from pandas)\n",
      "  Downloading tzdata-2025.2-py2.py3-none-any.whl.metadata (1.4 kB)\n",
      "Requirement already satisfied: six>=1.5 in g:\\learning\\machine_learning\\pandas\\venv\\lib\\site-packages (from python-dateutil>=2.8.2->pandas) (1.17.0)\n",
      "Using cached pandas-2.2.3-cp313-cp313-win_amd64.whl (11.5 MB)\n",
      "Downloading numpy-2.2.5-cp313-cp313-win_amd64.whl (12.6 MB)\n",
      "   ---------------------------------------- 0.0/12.6 MB ? eta -:--:--\n",
      "   ---- ----------------------------------- 1.3/12.6 MB 6.7 MB/s eta 0:00:02\n",
      "   -------- ------------------------------- 2.6/12.6 MB 6.8 MB/s eta 0:00:02\n",
      "   ------------- -------------------------- 4.2/12.6 MB 6.7 MB/s eta 0:00:02\n",
      "   ----------------- ---------------------- 5.5/12.6 MB 6.7 MB/s eta 0:00:02\n",
      "   --------------------- ------------------ 6.8/12.6 MB 6.7 MB/s eta 0:00:01\n",
      "   ------------------------- -------------- 8.1/12.6 MB 6.7 MB/s eta 0:00:01\n",
      "   ------------------------------ --------- 9.7/12.6 MB 6.7 MB/s eta 0:00:01\n",
      "   ---------------------------------- ----- 11.0/12.6 MB 6.7 MB/s eta 0:00:01\n",
      "   ---------------------------------------  12.6/12.6 MB 6.7 MB/s eta 0:00:01\n",
      "   ---------------------------------------- 12.6/12.6 MB 6.3 MB/s eta 0:00:00\n",
      "Downloading pytz-2025.2-py2.py3-none-any.whl (509 kB)\n",
      "Downloading tzdata-2025.2-py2.py3-none-any.whl (347 kB)\n",
      "Installing collected packages: pytz, tzdata, numpy, pandas\n",
      "Successfully installed numpy-2.2.5 pandas-2.2.3 pytz-2025.2 tzdata-2025.2\n"
     ]
    },
    {
     "name": "stderr",
     "output_type": "stream",
     "text": [
      "\n",
      "[notice] A new release of pip is available: 25.0.1 -> 25.1.1\n",
      "[notice] To update, run: python.exe -m pip install --upgrade pip\n"
     ]
    },
    {
     "name": "stdout",
     "output_type": "stream",
     "text": [
      "Requirement already satisfied: numpy in g:\\learning\\machine_learning\\pandas\\venv\\lib\\site-packages (2.2.5)\n"
     ]
    },
    {
     "name": "stderr",
     "output_type": "stream",
     "text": [
      "\n",
      "[notice] A new release of pip is available: 25.0.1 -> 25.1.1\n",
      "[notice] To update, run: python.exe -m pip install --upgrade pip\n"
     ]
    }
   ],
   "source": [
    "!pip install pandas\n",
    "!pip install numpy"
   ]
  },
  {
   "cell_type": "code",
   "execution_count": 3,
   "id": "d983aff9-7a30-4821-9438-aa625961ce1e",
   "metadata": {},
   "outputs": [],
   "source": [
    "import pandas as pd\n",
    "import numpy as np"
   ]
  },
  {
   "cell_type": "markdown",
   "id": "c262fc26-6ff3-40c3-be7f-a045e5384dff",
   "metadata": {},
   "source": [
    "#### 1. Creating a Pandas Series\n",
    "- A Series is a one-dimensional labeled array capable of holding any data type.\n",
    "- The labels are collectively known as the index."
   ]
  },
  {
   "cell_type": "code",
   "execution_count": 19,
   "id": "ffdd8dd8-f37d-48b7-96e4-ae4eeb05f00e",
   "metadata": {},
   "outputs": [
    {
     "name": "stdout",
     "output_type": "stream",
     "text": [
      "Series from list (default index):\n",
      " 0    10\n",
      "1    20\n",
      "2    30\n",
      "3    40\n",
      "4    50\n",
      "dtype: int64\n",
      "--------------------\n"
     ]
    }
   ],
   "source": [
    "# a) From a Python list (default integer index)\n",
    "list_data = [10, 20, 30, 40, 50]\n",
    "s_from_list = pd.Series(list_data)\n",
    "\n",
    "print(\"Series from list (default index):\\n\", s_from_list)\n",
    "print(\"-\" * 20)"
   ]
  },
  {
   "cell_type": "code",
   "execution_count": 20,
   "id": "b875267c-32b8-4400-8b3c-e96066e342a8",
   "metadata": {},
   "outputs": [
    {
     "name": "stdout",
     "output_type": "stream",
     "text": [
      "Series from list (custom index):\n",
      " a    10\n",
      "b    20\n",
      "c    30\n",
      "d    40\n",
      "e    50\n",
      "dtype: int64\n",
      "--------------------\n"
     ]
    }
   ],
   "source": [
    "# b) From a Python list with a custom index\n",
    "custom_index = ['a', 'b', 'c', 'd', 'e']\n",
    "s_custom_index = pd.Series(list_data, index=custom_index)\n",
    "\n",
    "print(\"Series from list (custom index):\\n\", s_custom_index)\n",
    "print(\"-\" * 20)"
   ]
  },
  {
   "cell_type": "code",
   "execution_count": 21,
   "id": "74a091df-3833-4391-8232-e449f0b2c3e6",
   "metadata": {},
   "outputs": [
    {
     "name": "stdout",
     "output_type": "stream",
     "text": [
      "Series from NumPy array:\n",
      " w    1.1\n",
      "x    2.2\n",
      "y    3.3\n",
      "z    4.4\n",
      "dtype: float64\n",
      "--------------------\n"
     ]
    }
   ],
   "source": [
    "# c) From a NumPy array\n",
    "numpy_arr = np.array([1.1, 2.2, 3.3, 4.4])\n",
    "index_np = ['w', 'x', 'y', 'z']\n",
    "\n",
    "s_from_numpy = pd.Series(numpy_arr, index=index_np)\n",
    "\n",
    "print(\"Series from NumPy array:\\n\", s_from_numpy)\n",
    "print(\"-\" * 20)"
   ]
  },
  {
   "cell_type": "code",
   "execution_count": 22,
   "id": "265c26c9-eccc-4bb9-a068-f77df875af83",
   "metadata": {},
   "outputs": [
    {
     "name": "stdout",
     "output_type": "stream",
     "text": [
      "Series from dictionary:\n",
      " Ohio      35000\n",
      "Texas     71000\n",
      "Oregon    16000\n",
      "Utah       5000\n",
      "dtype: int64\n",
      "--------------------\n"
     ]
    }
   ],
   "source": [
    "# d) From a Python dictionary\n",
    "# Dictionary keys become the index, values become the Series data.\n",
    "dict_data = {'Ohio': 35000, 'Texas': 71000, 'Oregon': 16000, 'Utah': 5000}\n",
    "\n",
    "s_from_dict = pd.Series(dict_data)\n",
    "\n",
    "print(\"Series from dictionary:\\n\", s_from_dict)\n",
    "print(\"-\" * 20)"
   ]
  },
  {
   "cell_type": "code",
   "execution_count": 23,
   "id": "a2fe4a8a-4fa3-47ca-ac34-a94f446e83cd",
   "metadata": {},
   "outputs": [
    {
     "name": "stdout",
     "output_type": "stream",
     "text": [
      "Series from dict with explicit index (NaN for missing):\n",
      " California        NaN\n",
      "Ohio          35000.0\n",
      "Oregon        16000.0\n",
      "Texas         71000.0\n",
      "dtype: float64\n",
      "--------------------\n"
     ]
    }
   ],
   "source": [
    "# If an index is provided with a dict, values are matched based on index labels.\n",
    "states = ['California', 'Ohio', 'Oregon', 'Texas'\n",
    "         ]\n",
    "s_dict_with_index = pd.Series(dict_data, index=states)\n",
    "\n",
    "print(\"Series from dict with explicit index (NaN for missing):\\n\", s_dict_with_index)\n",
    "\n",
    "# Note: 'California' is NaN (Not a Number) as it wasn't in dict_data.\n",
    "# 'Utah' from the dict is excluded as it wasn't in the `states` index.\n",
    "print(\"-\" * 20)"
   ]
  },
  {
   "cell_type": "code",
   "execution_count": 24,
   "id": "bbca17f7-cd71-4457-bb14-f566439b4243",
   "metadata": {},
   "outputs": [
    {
     "name": "stdout",
     "output_type": "stream",
     "text": [
      "Series from scalar:\n",
      " a    5.0\n",
      "b    5.0\n",
      "c    5.0\n",
      "d    5.0\n",
      "dtype: float64\n",
      "--------------------\n"
     ]
    }
   ],
   "source": [
    "# e) From a scalar value (value is repeated for each index label)\n",
    "s_scalar = pd.Series(5., index=['a', 'b', 'c', 'd'])\n",
    "\n",
    "print(\"Series from scalar:\\n\", s_scalar)\n",
    "print(\"-\" * 20)"
   ]
  },
  {
   "cell_type": "markdown",
   "id": "a4a18ab0-b2dc-4d0b-bfa5-817285d2e140",
   "metadata": {},
   "source": [
    "#### 2. Series Attributes"
   ]
  },
  {
   "cell_type": "code",
   "execution_count": 46,
   "id": "c6d34acd-07a5-4691-ae3c-d4b21da12fe4",
   "metadata": {},
   "outputs": [
    {
     "name": "stdout",
     "output_type": "stream",
     "text": [
      "Series from list with custom index:\n",
      " A    100\n",
      "B    200\n",
      "C    300\n",
      "D    400\n",
      "E    500\n",
      "dtype: int64\n"
     ]
    }
   ],
   "source": [
    "list_1 = [100, 200, 300, 400, 500]\n",
    "NEW_index = ['A', 'B', 'C', 'D', 'E']\n",
    "series_from_list = pd.Series(list_1, NEW_index)\n",
    "\n",
    "print(\"Series from list with custom index:\\n\", series_from_list)"
   ]
  },
  {
   "cell_type": "code",
   "execution_count": 40,
   "id": "91428c35-f540-4e3f-988c-601dba92af3a",
   "metadata": {},
   "outputs": [
    {
     "name": "stdout",
     "output_type": "stream",
     "text": [
      "\n",
      "Index: Index(['A', 'B', 'C', 'D', 'E'], dtype='object')\n"
     ]
    }
   ],
   "source": [
    "# .index: Get the index object\n",
    "print(f\"\\nIndex: {series_from_list.index}\")"
   ]
  },
  {
   "cell_type": "code",
   "execution_count": 42,
   "id": "8b8a5cc0-4140-40dc-91db-1d56f5778e4f",
   "metadata": {},
   "outputs": [
    {
     "name": "stdout",
     "output_type": "stream",
     "text": [
      "Values (NumPy array): [100 200 300 400 500]\n",
      "\n",
      "Type of values: <class 'numpy.ndarray'>\n"
     ]
    }
   ],
   "source": [
    "# .values: Get the data as a NumPy array\n",
    "\n",
    "print(f\"Values (NumPy array): {series_from_list.values}\\n\")\n",
    "\n",
    "print(f\"Type of values: {type(series_from_list.values)}\")#type"
   ]
  },
  {
   "cell_type": "code",
   "execution_count": 43,
   "id": "d56941b5-1bac-4362-b7e3-5a525630af56",
   "metadata": {},
   "outputs": [
    {
     "name": "stdout",
     "output_type": "stream",
     "text": [
      "Data type (dtype): int64\n"
     ]
    }
   ],
   "source": [
    "# .dtype: Get the data type of the elements\n",
    "print(f\"Data type (dtype): {series_from_list.dtype}\")"
   ]
  },
  {
   "cell_type": "code",
   "execution_count": 48,
   "id": "2a8d0c06-83db-486f-ab91-a2eee1d54ccb",
   "metadata": {},
   "outputs": [
    {
     "name": "stdout",
     "output_type": "stream",
     "text": [
      "Series name: MyNumbers\n"
     ]
    }
   ],
   "source": [
    "# .name: Get or set the name of the Series\n",
    "series_from_list.name = 'MyNumbers'\n",
    "\n",
    "print(f\"Series name: {series_from_list.name}\")"
   ]
  },
  {
   "cell_type": "code",
   "execution_count": 50,
   "id": "1eaea508-77bb-4b77-918d-8b2aa76f9a05",
   "metadata": {},
   "outputs": [
    {
     "name": "stdout",
     "output_type": "stream",
     "text": [
      "Index name: Letters\n",
      "\n",
      "Series with names set:\n",
      " Letters\n",
      "A    100\n",
      "B    200\n",
      "C    300\n",
      "D    400\n",
      "E    500\n",
      "Name: MyNumbers, dtype: int64\n"
     ]
    }
   ],
   "source": [
    "# .index.name: Get or set the name of the index\n",
    "\n",
    "series_from_list.index.name = 'Letters'\n",
    "\n",
    "print(f\"Index name: {series_from_list.index.name}\")\n",
    "\n",
    "print(\"\\nSeries with names set:\\n\", series_from_list)"
   ]
  },
  {
   "cell_type": "code",
   "execution_count": 51,
   "id": "1e2eebf3-d046-4a81-8d4c-d73f8cbe385a",
   "metadata": {},
   "outputs": [
    {
     "name": "stdout",
     "output_type": "stream",
     "text": [
      "\n",
      "Size (number of elements): 5\n"
     ]
    }
   ],
   "source": [
    "# .size: Get the number of elements\n",
    "\n",
    "print(f\"\\nSize (number of elements): {series_from_list.size}\")"
   ]
  },
  {
   "cell_type": "code",
   "execution_count": 52,
   "id": "f9be1006-158b-4ca3-a407-935362351625",
   "metadata": {},
   "outputs": [
    {
     "name": "stdout",
     "output_type": "stream",
     "text": [
      "Shape: (5,)\n",
      "--------------------\n"
     ]
    }
   ],
   "source": [
    "# .shape: Get the shape (as a tuple)\n",
    "\n",
    "print(f\"Shape: {series_from_list.shape}\") # Output: (5,) for a 1D Series\n",
    "print(\"-\" * 20)"
   ]
  },
  {
   "cell_type": "markdown",
   "id": "72ff5899-1e50-43c4-9241-dcfac6254619",
   "metadata": {},
   "source": [
    "#### 3. Index Object\n",
    "- The Index object holds the axis labels. It's immutable (cannot be changed in place)\n",
    "- and behaves like a fixed-size set but can contain duplicates."
   ]
  },
  {
   "cell_type": "code",
   "execution_count": 54,
   "id": "0fac452d-27b8-4ebb-a7ac-e910156e950c",
   "metadata": {},
   "outputs": [
    {
     "name": "stdout",
     "output_type": "stream",
     "text": [
      "Series from list with custom index:\n",
      " A    100\n",
      "B    200\n",
      "C    300\n",
      "D    400\n",
      "E    500\n",
      "dtype: int64\n"
     ]
    }
   ],
   "source": [
    "list_1 = [100, 200, 300, 400, 500]\n",
    "NEW_index = ['A', 'B', 'C', 'D', 'E']\n",
    "series_from_list = pd.Series(list_1, NEW_index)\n",
    "\n",
    "print(\"Series from list with custom index:\\n\", series_from_list)"
   ]
  },
  {
   "cell_type": "code",
   "execution_count": 53,
   "id": "bce1fd34-3060-480c-b6d3-b21a2ad0e00a",
   "metadata": {},
   "outputs": [
    {
     "name": "stdout",
     "output_type": "stream",
     "text": [
      "--- Index Object ---\n",
      "Index object: Index(['A', 'B', 'C', 'D', 'E'], dtype='object', name='Letters')\n",
      "Is index unique? True\n"
     ]
    }
   ],
   "source": [
    "idx = series_from_list.index\n",
    "\n",
    "print(\"--- Index Object ---\")\n",
    "print(f\"Index object: {idx}\")\n",
    "\n",
    "print(f\"Is index unique? {idx.is_unique}\")"
   ]
  },
  {
   "cell_type": "code",
   "execution_count": 57,
   "id": "f1c6b158-2554-409b-be86-e46a21bb8df3",
   "metadata": {},
   "outputs": [
    {
     "name": "stdout",
     "output_type": "stream",
     "text": [
      "New index: Index(['c', 'd', 'e', 'f', 'g'], dtype='object')\n",
      "\n",
      "Intersection: Index([], dtype='object')\n",
      "\n",
      "Union: Index(['A', 'B', 'C', 'D', 'E', 'c', 'd', 'e', 'f', 'g'], dtype='object')\n",
      "\n",
      "Difference (idx - idx2): Index(['A', 'B', 'C', 'D', 'E'], dtype='object')\n",
      "\n",
      "--------------------\n"
     ]
    }
   ],
   "source": [
    "# Index objects support set operations (if they don't have duplicates)\n",
    "\n",
    "idx2 = pd.Index(['c', 'd', 'e', 'f', 'g'])\n",
    "\n",
    "print(f\"New index: {idx2}\\n\")\n",
    "\n",
    "print(f\"Intersection: {idx.intersection(idx2)}\\n\")\n",
    "\n",
    "print(f\"Union: {idx.union(idx2)}\\n\")\n",
    "\n",
    "print(f\"Difference (idx - idx2): {idx.difference(idx2)}\\n\")\n",
    "print(\"-\" * 20)"
   ]
  },
  {
   "cell_type": "markdown",
   "id": "56c3a43a-5188-469d-b98c-42c5c6a2d68b",
   "metadata": {},
   "source": [
    "#### 4. Basic Operations & Accessing Elements"
   ]
  },
  {
   "cell_type": "code",
   "execution_count": 58,
   "id": "79c7dfd2-4f35-4563-a248-f4bb45ab867e",
   "metadata": {},
   "outputs": [
    {
     "name": "stdout",
     "output_type": "stream",
     "text": [
      "Series used (series_from_list):\n",
      " A    100\n",
      "B    200\n",
      "C    300\n",
      "D    400\n",
      "E    500\n",
      "dtype: int64\n"
     ]
    }
   ],
   "source": [
    "print(\"Series used (series_from_list):\\n\", series_from_list)"
   ]
  },
  {
   "cell_type": "code",
   "execution_count": 71,
   "id": "554a3a47-91f9-463b-b030-1af624861bc3",
   "metadata": {},
   "outputs": [
    {
     "name": "stdout",
     "output_type": "stream",
     "text": [
      "Element at index 'C is:  300\n",
      "\n",
      "Element at index 'C' using fstring: 300\n"
     ]
    }
   ],
   "source": [
    "# Accessing elements like a dictionary (using index labels)\n",
    "\n",
    "print(\"Element at index 'C is: \", series_from_list['C'])\n",
    "\n",
    "print(f\"\\nElement at index 'C' using fstring: {series_from_list['C']}\")"
   ]
  },
  {
   "cell_type": "code",
   "execution_count": 75,
   "id": "37cc870d-cdf4-4fa8-9c77-676b5875ac15",
   "metadata": {},
   "outputs": [
    {
     "name": "stdout",
     "output_type": "stream",
     "text": [
      "Element at position 1 (using .iloc): 200\n"
     ]
    }
   ],
   "source": [
    "# Accessing elements like a NumPy array (using integer position) - Use .iloc for clarity\n",
    "\n",
    "print(f\"Element at position 1 (using .iloc): {series_from_list.iloc[1]}\")"
   ]
  },
  {
   "cell_type": "code",
   "execution_count": 73,
   "id": "16468eb3-14d2-4a08-b1b7-0736b88eeb64",
   "metadata": {},
   "outputs": [
    {
     "name": "stdout",
     "output_type": "stream",
     "text": [
      "\n",
      "Slice from 'B' to 'D' (label-based):\n",
      "B    200\n",
      "C    300\n",
      "D    400\n",
      "dtype: int64\n"
     ]
    }
   ],
   "source": [
    "# Slicing using labels (inclusive of the end label)\n",
    "\n",
    "print(f\"\\nSlice from 'B' to 'D' (label-based):\\n{series_from_list['B':'D']}\")"
   ]
  },
  {
   "cell_type": "code",
   "execution_count": 76,
   "id": "90031754-0f12-4cac-9fc0-795663a55e62",
   "metadata": {},
   "outputs": [
    {
     "name": "stdout",
     "output_type": "stream",
     "text": [
      "Slice from position 1 to 4 (position-based using .iloc):\n",
      "B    200\n",
      "C    300\n",
      "D    400\n",
      "dtype: int64\n",
      "Slice from position 0 to 4:\n",
      "A    100\n",
      "B    200\n",
      "C    300\n",
      "D    400\n",
      "dtype: int64\n",
      "Slice from position 1 to end:\n",
      "B    200\n",
      "C    300\n",
      "D    400\n",
      "E    500\n",
      "dtype: int64\n"
     ]
    }
   ],
   "source": [
    "# Slicing using positions (exclusive of the end position) - Use .iloc\n",
    "\n",
    "print(f\"Slice from position 1 to 4 (position-based using .iloc):\\n{series_from_list.iloc[1:4]}\")\n",
    "\n",
    "print(f\"Slice from position 0 to 4:\\n{series_from_list.iloc[:4]}\")\n",
    "print(f\"Slice from position 1 to end:\\n{series_from_list.iloc[1:]}\")"
   ]
  },
  {
   "cell_type": "code",
   "execution_count": 79,
   "id": "c7748608-4a7e-4021-a1da-656956524b5e",
   "metadata": {},
   "outputs": [
    {
     "name": "stdout",
     "output_type": "stream",
     "text": [
      "\n",
      "Elements at label ['A', 'E', 'C'] are:\n",
      "A    100\n",
      "E    500\n",
      "C    300\n",
      "dtype: int64\n"
     ]
    }
   ],
   "source": [
    "print(f\"\\nElements at label ['A', 'E', 'C'] are:\\n{series_from_list[['A', 'E', 'C']]}\")"
   ]
  },
  {
   "cell_type": "code",
   "execution_count": 81,
   "id": "c4295d92-3181-44fb-8609-998400e038c2",
   "metadata": {},
   "outputs": [
    {
     "name": "stdout",
     "output_type": "stream",
     "text": [
      "\n",
      "Elements at positions [0, 4, 2] (using .iloc):\n",
      "A    100\n",
      "E    500\n",
      "C    300\n",
      "dtype: int64\n"
     ]
    }
   ],
   "source": [
    "# Getting multiple elements using a list of positions (.iloc)\n",
    "print(f\"\\nElements at positions [0, 4, 2] (using .iloc):\\n{series_from_list.iloc[[0, 4, 2]]}\")"
   ]
  },
  {
   "cell_type": "code",
   "execution_count": 85,
   "id": "3369de26-47d6-4efd-8705-be4361a64322",
   "metadata": {},
   "outputs": [
    {
     "name": "stdout",
     "output_type": "stream",
     "text": [
      "\n",
      "Elements > 25:\n",
      "A    100\n",
      "B    200\n",
      "C    300\n",
      "D    400\n",
      "E    500\n",
      "dtype: int64\n"
     ]
    }
   ],
   "source": [
    "# Boolean indexing (like NumPy arrays)\n",
    "print(f\"\\nElements > 25:\\n{series_from_list[series_from_list > 25]}\")"
   ]
  },
  {
   "cell_type": "code",
   "execution_count": 92,
   "id": "00db1c42-18f2-400d-b10d-4a86ff397a05",
   "metadata": {},
   "outputs": [
    {
     "name": "stdout",
     "output_type": "stream",
     "text": [
      "\n",
      "Series * 2:\n",
      "A     200\n",
      "B     400\n",
      "C     600\n",
      "D     800\n",
      "E    1000\n",
      "dtype: int64\n",
      "\n",
      "Series + 100:\n",
      "A    200\n",
      "B    300\n",
      "C    400\n",
      "D    500\n",
      "E    600\n",
      "dtype: int64\n",
      "\n",
      "Applying NumPy ufunc (np.exp):\n",
      "A    2.202647e+04\n",
      "B    4.851652e+08\n",
      "C    1.068647e+13\n",
      "D    2.353853e+17\n",
      "E    5.184706e+21\n",
      "dtype: float64\n"
     ]
    }
   ],
   "source": [
    "# Vectorized arithmetic operations (like NumPy arrays)\n",
    "print(f\"\\nSeries * 2:\\n{series_from_list * 2}\")\n",
    "print(f\"\\nSeries + 100:\\n{series_from_list + 100}\")\n",
    "print(f\"\\nApplying NumPy ufunc (np.exp):\\n{np.exp(series_from_list / 10)}\") # Example ufunc"
   ]
  },
  {
   "cell_type": "code",
   "execution_count": 93,
   "id": "5a5e29fd-c865-4d23-bca4-8d812a0d38fd",
   "metadata": {},
   "outputs": [
    {
     "name": "stdout",
     "output_type": "stream",
     "text": [
      "\n",
      "Is 'B' in index? True\n",
      "Is 'F' in index? False\n",
      "--------------------\n"
     ]
    }
   ],
   "source": [
    "# Check for existence of index labels\n",
    "print(f\"\\nIs 'B' in index? {'B' in series_from_list}\") # Output: True\n",
    "print(f\"Is 'F' in index? {'F' in series_from_list}\") # Output: False\n",
    "print(\"-\" * 20)"
   ]
  },
  {
   "cell_type": "code",
   "execution_count": 101,
   "id": "96902e66-f27e-4152-99a3-17f853a6e522",
   "metadata": {},
   "outputs": [
    {
     "name": "stdout",
     "output_type": "stream",
     "text": [
      "s1:\n",
      " a    1\n",
      "b    2\n",
      "c    3\n",
      "dtype: int64\n",
      "s2:\n",
      " b    10\n",
      "c    20\n",
      "d    30\n",
      "e    40\n",
      "dtype: int64\n"
     ]
    }
   ],
   "source": [
    "# Alignment during operations\n",
    "# When performing operations between Series, Pandas aligns data based on index labels.\n",
    "s1 = pd.Series([1, 2, 3], index=['a', 'b', 'c'])\n",
    "s2 = pd.Series([10, 20, 30, 40], index=['b', 'c', 'd', 'e'])\n",
    "\n",
    "print(\"s1:\\n\", s1)\n",
    "print(\"s2:\\n\", s2)"
   ]
  },
  {
   "cell_type": "code",
   "execution_count": 102,
   "id": "4d5247e5-2b4b-452a-98a6-55d4ce182b6c",
   "metadata": {},
   "outputs": [
    {
     "name": "stdout",
     "output_type": "stream",
     "text": [
      "Alignment Example:\n",
      "s1 + s2 (aligned by index):\n",
      " a     NaN\n",
      "b    12.0\n",
      "c    23.0\n",
      "d     NaN\n",
      "e     NaN\n",
      "dtype: float64\n"
     ]
    }
   ],
   "source": [
    "print(\"Alignment Example:\")\n",
    "print(\"s1 + s2 (aligned by index):\\n\", s1 + s2)\n",
    "# Note: 'a', 'd', 'e' result in NaN because they don't exist in both Series indices."
   ]
  },
  {
   "cell_type": "code",
   "execution_count": null,
   "id": "66c67145-e695-407d-a83e-aa5de7aad7d1",
   "metadata": {},
   "outputs": [],
   "source": []
  }
 ],
 "metadata": {
  "kernelspec": {
   "display_name": "Python 3 (ipykernel)",
   "language": "python",
   "name": "python3"
  },
  "language_info": {
   "codemirror_mode": {
    "name": "ipython",
    "version": 3
   },
   "file_extension": ".py",
   "mimetype": "text/x-python",
   "name": "python",
   "nbconvert_exporter": "python",
   "pygments_lexer": "ipython3",
   "version": "3.13.3"
  }
 },
 "nbformat": 4,
 "nbformat_minor": 5
}
